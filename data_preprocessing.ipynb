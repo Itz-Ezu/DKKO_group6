{
 "cells": [
  {
   "cell_type": "markdown",
   "id": "11aaa4ff-82bb-4dfa-8146-97f1f3c84e3c",
   "metadata": {},
   "source": [
    "Tervetuloa kamut!"
   ]
  }
 ],
 "metadata": {
  "kernelspec": {
   "display_name": "Python [conda env:base] *",
   "language": "python",
   "name": "conda-base-py"
  },
  "language_info": {
   "codemirror_mode": {
    "name": "ipython",
    "version": 3
   },
   "file_extension": ".py",
   "mimetype": "text/x-python",
   "name": "python",
   "nbconvert_exporter": "python",
   "pygments_lexer": "ipython3",
   "version": "3.13.5"
  }
 },
 "nbformat": 4,
 "nbformat_minor": 5
}
