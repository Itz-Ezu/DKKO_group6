{
 "cells": [
  {
   "metadata": {},
   "cell_type": "markdown",
   "source": [
    "# Machine Learning Models for Breast Cancer Diagnosis\n",
    "\n",
    "## HW objectives\n",
    "\n",
    "- [ ] Investigate the contents of the dataset and include a brief description of its variables.\n",
    "- [ ] Apply standardization to the numerical values of the input variables.\n",
    "- [ ] Extract part of the data for testing in accordance with the hold-out validation technique.\n",
    "- [ ] Train a binary classifier for predicting the cancer diagnosis (malignant / benign). Experiment with a few choices of the hyperparameter k ([example 1](https://medium.com/%40agrawalsam1997/hyperparameter-tuning-of-knn-classifier-a32f31af25c7) & [example 2](https://www.geeksforgeeks.org/machine-learning/how-to-find-the-optimal-value-of-k-in-knn/?utm_source=chatgpt.com)), and report the findings.\n",
    "- [ ] Test the performance of the classifier and present the associated [confusion matrix](https://scikit-learn.org/stable/auto_examples/model_selection/plot_confusion_matrix.html?utm_source=chatgpt.com) together with the most common evaluation metrics (accuracy, precision and recall).\n",
    "\n",
    "## Business understanding\n",
    "\n",
    "Define business problem that needs to be solved.\n",
    "- What is the goal of the analysis?\n",
    "- What are the requirements and constraints?\n",
    "- What is the expected outcome?"
   ],
   "id": "d2966e82c09c9183"
  },
  {
   "metadata": {},
   "cell_type": "code",
   "outputs": [],
   "execution_count": null,
   "source": "# hello world",
   "id": "c4d460ea3cb7380e"
  },
  {
   "metadata": {},
   "cell_type": "markdown",
   "source": [
    "## Data understanding\n",
    "\n",
    "collect and explore the data.\n",
    "- What data is available? What are the characteristics of the data (variable types, value distributions etc.)?\n",
    "- Are there any quality issues with the data (missing values, outliers, nonsensical values)?"
   ],
   "id": "def2b411dd31d480"
  },
  {
   "metadata": {},
   "cell_type": "code",
   "outputs": [],
   "execution_count": null,
   "source": [
    "from ucimlrepo import fetch_ucirepo\n",
    "\n",
    "# fetch dataset\n",
    "breast_cancer_wisconsin_diagnostic = fetch_ucirepo(id=17)\n",
    "\n",
    "# data (as pandas dataframes)\n",
    "X = breast_cancer_wisconsin_diagnostic.data.features\n",
    "y = breast_cancer_wisconsin_diagnostic.data.targets"
   ],
   "id": "2aeff990333d963f"
  },
  {
   "metadata": {},
   "cell_type": "markdown",
   "source": "Let's see what we've got",
   "id": "9f9bb7badc3d7809"
  },
  {
   "metadata": {},
   "cell_type": "code",
   "outputs": [],
   "execution_count": null,
   "source": [
    "# metadata\n",
    "print(breast_cancer_wisconsin_diagnostic.metadata)"
   ],
   "id": "26898baced7f4977"
  },
  {
   "metadata": {},
   "cell_type": "code",
   "outputs": [],
   "execution_count": null,
   "source": [
    "# variable information\n",
    "print(breast_cancer_wisconsin_diagnostic.variables)"
   ],
   "id": "5b45f04d0416bc1f"
  },
  {
   "metadata": {},
   "cell_type": "markdown",
   "source": [
    "## Data preparation\n",
    "\n",
    "data preprocessing\n",
    "- cleaning the data\n",
    "- transforming the data\n",
    "- selecting the relevant features"
   ],
   "id": "a181f66c0277a091"
  },
  {
   "metadata": {},
   "cell_type": "code",
   "outputs": [],
   "execution_count": null,
   "source": "# hello world",
   "id": "74b6aaac359e9db5"
  },
  {
   "metadata": {},
   "cell_type": "markdown",
   "source": [
    "## Modeling\n",
    "\n",
    "choose a machine learning method and train the model (+ model validation)\n",
    "- which method was used?\n",
    "- which parameters were used?\n",
    "- what was the performance of the model?"
   ],
   "id": "a0bc4d25f361d253"
  },
  {
   "metadata": {},
   "cell_type": "code",
   "outputs": [],
   "execution_count": null,
   "source": "# hello world",
   "id": "71ce138fe8099aae"
  },
  {
   "metadata": {},
   "cell_type": "markdown",
   "source": [
    "## Evaluation\n",
    "\n",
    "evaluate the model\n",
    "- How well does the model perform?\n",
    "- Does it meet the business requirements?"
   ],
   "id": "c7a667a15cc1e506"
  },
  {
   "metadata": {},
   "cell_type": "code",
   "outputs": [],
   "execution_count": null,
   "source": "# hell world",
   "id": "ac814f5d4cff5efc"
  },
  {
   "metadata": {},
   "cell_type": "markdown",
   "source": [
    "## Deployment\n",
    "\n",
    "johtopaatos / creating a recommendation of how to use the model in practice, or what to do next\n",
    "- How will the model be used in practice?\n",
    "- How will the results be communicated?"
   ],
   "id": "78f5929792c501d8"
  },
  {
   "metadata": {},
   "cell_type": "code",
   "outputs": [],
   "execution_count": null,
   "source": "# hello world",
   "id": "13be5d0c7da83b07"
  },
  {
   "metadata": {},
   "cell_type": "markdown",
   "source": [
    "### Reflection\n",
    "\n",
    "#### Ai Usage\n",
    "- for research\n",
    "\n",
    "#### Team contribution\n",
    "- who did what\n",
    "\n",
    "#### Sources\n",
    "- links & descriptions"
   ],
   "id": "54766e56a25030e0"
  }
 ],
 "metadata": {
  "kernelspec": {
   "display_name": "Python 3",
   "language": "python",
   "name": "python3"
  },
  "language_info": {
   "codemirror_mode": {
    "name": "ipython",
    "version": 2
   },
   "file_extension": ".py",
   "mimetype": "text/x-python",
   "name": "python",
   "nbconvert_exporter": "python",
   "pygments_lexer": "ipython2",
   "version": "2.7.6"
  }
 },
 "nbformat": 4,
 "nbformat_minor": 5
}
