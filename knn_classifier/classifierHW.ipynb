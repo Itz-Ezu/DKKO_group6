{
 "cells": [
  {
   "cell_type": "markdown",
   "id": "d2966e82c09c9183",
   "metadata": {},
   "source": [
    "# Machine Learning Models for Breast Cancer Diagnosis\n",
    "\n",
    "## Assignment understanding\n",
    "\n",
    "This work based of the idea that it is possible to develop a computer system to help diagnose breast cancer. The system analyzes data derived from images of cell samples, which are taken from a breast lump. Instead of a doctor relying solely on a subjective judgment, this system uses machine learning to classify the cells as cancerous or not.\n",
    "\n",
    "The primary business objective in any clinical diagnostic setting is to maximize diagnostic accuracy while minimizing errors. Therefore, the goal is to develop a model that serves as a <del>somehow</del> reliable decision support tool for clinicians.\n",
    "\n",
    "For these purpose we will use the **kNN-classifier algorithm** combined with **hold-out validation** to train a binary classifier. Our process involves tuning the model's hyperparameters by exploring a **range of K-values** to find the configuration that provides the **best possible performance**. Result is measured by use of confusion matrix and key metrics like accuracy, precision, and recall.\n"
   ]
  },
  {
   "metadata": {},
   "cell_type": "markdown",
   "source": [
    "## Data understanding\n",
    "\n",
    "The dataset contains diagnostic test results from 569 patients. It is comprised of 357 samples classified as benign and 212 as malignant. This class distribution is slightly imbalanced, but it is not expected to be a critical issue for this analysis. According to the source, the dataset is clean and contains no missing values.\n",
    "\n",
    "### Provided specifications\n",
    "\n",
    "#### Data consists of 32 attributes:\n",
    "- 1 (ID)\n",
    "- 1 target variable (diagnosis)\n",
    "- 30 numeric variables\n",
    "\n",
    "#### Target variables:\n",
    "- B (Benign)\n",
    "- M (Malignant)\n",
    "\n",
    "#### Measured features (numeric):\n",
    "\n",
    "| Measurement      | Description                                                                 |\n",
    "|------------------|-----------------------------------------------------------------------------|\n",
    "| Radius           | The mean distance from the center to points on the perimeter.               |\n",
    "| Texture          | The standard deviation of gray-scale values.                                |\n",
    "| Perimeter        | The length of the nucleus boundary.                                         |\n",
    "| Area             | The area of the nucleus.                                                    |\n",
    "| Smoothness       | A measure of the local variation in radius lengths.                         |\n",
    "| Compactness      | Calculated as (perimeter² / area) - 1.0.                                    |\n",
    "| Concavity        | The severity of concave portions of the contour.                            |\n",
    "| Concave points   | The number of concave portions of the contour.                              |\n",
    "| Symmetry         | A measure of the nucleus's symmetry.                                        |\n",
    "| Fractal dimension| An approximation of the \"coastline\" complexity.                             |\n",
    "\n",
    "#### For each feature, three values are recorded:\n",
    "\n",
    "| Value Type | Description                                                                 |\n",
    "|------------|-----------------------------------------------------------------------------|\n",
    "| Mean       | The average of all nuclei in the image.                                     |\n",
    "| SE         | The standard error of the mean for the nuclei.                              |\n",
    "| Worst      | The mean of the three largest (\"worst\") values for that feature in the image.|\n"
   ],
   "id": "8f797f6afbc6ac4c"
  },
  {
   "metadata": {},
   "cell_type": "markdown",
   "source": [
    "## Data preparation\n",
    "\n",
    "data preprocessing\n",
    "- cleaning the data\n",
    "- transforming the data\n",
    "- selecting the relevant features"
   ],
   "id": "b467f26370f4999e"
  },
  {
   "metadata": {
    "ExecuteTime": {
     "end_time": "2025-09-04T17:37:18.696452Z",
     "start_time": "2025-09-04T17:37:18.683856Z"
    }
   },
   "cell_type": "code",
   "source": [
    "import numpy as np\n",
    "import pandas as pd\n",
    "\n",
    "# 10 perusominaisuutta\n",
    "features = [\n",
    "    \"radius\",\n",
    "    \"texture\",\n",
    "    \"perimeter\",\n",
    "    \"area\",\n",
    "    \"smoothness\",\n",
    "    \"compactness\",\n",
    "    \"concavity\",\n",
    "    \"concave_points\",\n",
    "    \"symmetry\",\n",
    "    \"fractal_dimension\"\n",
    "]\n",
    "\n",
    "# Jokaisesta lasketut kolme versiota\n",
    "suffixes = [\"mean\", \"se\", \"worst\"]\n",
    "\n",
    "columns = [\"ID\", \"Diagnosis\"]\n",
    "for suffix in suffixes:\n",
    "    for feature in features:\n",
    "        columns.append(f\"{feature}_{suffix}\")\n",
    "\n",
    "df = pd.read_csv(\"./breastCancerData/wdbc.data\", header=None, names=columns)\n",
    "df.head()\n"
   ],
   "id": "884cd12026f7db1c",
   "outputs": [
    {
     "data": {
      "text/plain": [
       "         ID Diagnosis  radius_mean  texture_mean  perimeter_mean  area_mean  \\\n",
       "0    842302         M        17.99         10.38          122.80     1001.0   \n",
       "1    842517         M        20.57         17.77          132.90     1326.0   \n",
       "2  84300903         M        19.69         21.25          130.00     1203.0   \n",
       "3  84348301         M        11.42         20.38           77.58      386.1   \n",
       "4  84358402         M        20.29         14.34          135.10     1297.0   \n",
       "\n",
       "   smoothness_mean  compactness_mean  concavity_mean  concave_points_mean  \\\n",
       "0          0.11840           0.27760          0.3001              0.14710   \n",
       "1          0.08474           0.07864          0.0869              0.07017   \n",
       "2          0.10960           0.15990          0.1974              0.12790   \n",
       "3          0.14250           0.28390          0.2414              0.10520   \n",
       "4          0.10030           0.13280          0.1980              0.10430   \n",
       "\n",
       "   ...  radius_worst  texture_worst  perimeter_worst  area_worst  \\\n",
       "0  ...         25.38          17.33           184.60      2019.0   \n",
       "1  ...         24.99          23.41           158.80      1956.0   \n",
       "2  ...         23.57          25.53           152.50      1709.0   \n",
       "3  ...         14.91          26.50            98.87       567.7   \n",
       "4  ...         22.54          16.67           152.20      1575.0   \n",
       "\n",
       "   smoothness_worst  compactness_worst  concavity_worst  concave_points_worst  \\\n",
       "0            0.1622             0.6656           0.7119                0.2654   \n",
       "1            0.1238             0.1866           0.2416                0.1860   \n",
       "2            0.1444             0.4245           0.4504                0.2430   \n",
       "3            0.2098             0.8663           0.6869                0.2575   \n",
       "4            0.1374             0.2050           0.4000                0.1625   \n",
       "\n",
       "   symmetry_worst  fractal_dimension_worst  \n",
       "0          0.4601                  0.11890  \n",
       "1          0.2750                  0.08902  \n",
       "2          0.3613                  0.08758  \n",
       "3          0.6638                  0.17300  \n",
       "4          0.2364                  0.07678  \n",
       "\n",
       "[5 rows x 32 columns]"
      ],
      "text/html": [
       "<div>\n",
       "<style scoped>\n",
       "    .dataframe tbody tr th:only-of-type {\n",
       "        vertical-align: middle;\n",
       "    }\n",
       "\n",
       "    .dataframe tbody tr th {\n",
       "        vertical-align: top;\n",
       "    }\n",
       "\n",
       "    .dataframe thead th {\n",
       "        text-align: right;\n",
       "    }\n",
       "</style>\n",
       "<table border=\"1\" class=\"dataframe\">\n",
       "  <thead>\n",
       "    <tr style=\"text-align: right;\">\n",
       "      <th></th>\n",
       "      <th>ID</th>\n",
       "      <th>Diagnosis</th>\n",
       "      <th>radius_mean</th>\n",
       "      <th>texture_mean</th>\n",
       "      <th>perimeter_mean</th>\n",
       "      <th>area_mean</th>\n",
       "      <th>smoothness_mean</th>\n",
       "      <th>compactness_mean</th>\n",
       "      <th>concavity_mean</th>\n",
       "      <th>concave_points_mean</th>\n",
       "      <th>...</th>\n",
       "      <th>radius_worst</th>\n",
       "      <th>texture_worst</th>\n",
       "      <th>perimeter_worst</th>\n",
       "      <th>area_worst</th>\n",
       "      <th>smoothness_worst</th>\n",
       "      <th>compactness_worst</th>\n",
       "      <th>concavity_worst</th>\n",
       "      <th>concave_points_worst</th>\n",
       "      <th>symmetry_worst</th>\n",
       "      <th>fractal_dimension_worst</th>\n",
       "    </tr>\n",
       "  </thead>\n",
       "  <tbody>\n",
       "    <tr>\n",
       "      <th>0</th>\n",
       "      <td>842302</td>\n",
       "      <td>M</td>\n",
       "      <td>17.99</td>\n",
       "      <td>10.38</td>\n",
       "      <td>122.80</td>\n",
       "      <td>1001.0</td>\n",
       "      <td>0.11840</td>\n",
       "      <td>0.27760</td>\n",
       "      <td>0.3001</td>\n",
       "      <td>0.14710</td>\n",
       "      <td>...</td>\n",
       "      <td>25.38</td>\n",
       "      <td>17.33</td>\n",
       "      <td>184.60</td>\n",
       "      <td>2019.0</td>\n",
       "      <td>0.1622</td>\n",
       "      <td>0.6656</td>\n",
       "      <td>0.7119</td>\n",
       "      <td>0.2654</td>\n",
       "      <td>0.4601</td>\n",
       "      <td>0.11890</td>\n",
       "    </tr>\n",
       "    <tr>\n",
       "      <th>1</th>\n",
       "      <td>842517</td>\n",
       "      <td>M</td>\n",
       "      <td>20.57</td>\n",
       "      <td>17.77</td>\n",
       "      <td>132.90</td>\n",
       "      <td>1326.0</td>\n",
       "      <td>0.08474</td>\n",
       "      <td>0.07864</td>\n",
       "      <td>0.0869</td>\n",
       "      <td>0.07017</td>\n",
       "      <td>...</td>\n",
       "      <td>24.99</td>\n",
       "      <td>23.41</td>\n",
       "      <td>158.80</td>\n",
       "      <td>1956.0</td>\n",
       "      <td>0.1238</td>\n",
       "      <td>0.1866</td>\n",
       "      <td>0.2416</td>\n",
       "      <td>0.1860</td>\n",
       "      <td>0.2750</td>\n",
       "      <td>0.08902</td>\n",
       "    </tr>\n",
       "    <tr>\n",
       "      <th>2</th>\n",
       "      <td>84300903</td>\n",
       "      <td>M</td>\n",
       "      <td>19.69</td>\n",
       "      <td>21.25</td>\n",
       "      <td>130.00</td>\n",
       "      <td>1203.0</td>\n",
       "      <td>0.10960</td>\n",
       "      <td>0.15990</td>\n",
       "      <td>0.1974</td>\n",
       "      <td>0.12790</td>\n",
       "      <td>...</td>\n",
       "      <td>23.57</td>\n",
       "      <td>25.53</td>\n",
       "      <td>152.50</td>\n",
       "      <td>1709.0</td>\n",
       "      <td>0.1444</td>\n",
       "      <td>0.4245</td>\n",
       "      <td>0.4504</td>\n",
       "      <td>0.2430</td>\n",
       "      <td>0.3613</td>\n",
       "      <td>0.08758</td>\n",
       "    </tr>\n",
       "    <tr>\n",
       "      <th>3</th>\n",
       "      <td>84348301</td>\n",
       "      <td>M</td>\n",
       "      <td>11.42</td>\n",
       "      <td>20.38</td>\n",
       "      <td>77.58</td>\n",
       "      <td>386.1</td>\n",
       "      <td>0.14250</td>\n",
       "      <td>0.28390</td>\n",
       "      <td>0.2414</td>\n",
       "      <td>0.10520</td>\n",
       "      <td>...</td>\n",
       "      <td>14.91</td>\n",
       "      <td>26.50</td>\n",
       "      <td>98.87</td>\n",
       "      <td>567.7</td>\n",
       "      <td>0.2098</td>\n",
       "      <td>0.8663</td>\n",
       "      <td>0.6869</td>\n",
       "      <td>0.2575</td>\n",
       "      <td>0.6638</td>\n",
       "      <td>0.17300</td>\n",
       "    </tr>\n",
       "    <tr>\n",
       "      <th>4</th>\n",
       "      <td>84358402</td>\n",
       "      <td>M</td>\n",
       "      <td>20.29</td>\n",
       "      <td>14.34</td>\n",
       "      <td>135.10</td>\n",
       "      <td>1297.0</td>\n",
       "      <td>0.10030</td>\n",
       "      <td>0.13280</td>\n",
       "      <td>0.1980</td>\n",
       "      <td>0.10430</td>\n",
       "      <td>...</td>\n",
       "      <td>22.54</td>\n",
       "      <td>16.67</td>\n",
       "      <td>152.20</td>\n",
       "      <td>1575.0</td>\n",
       "      <td>0.1374</td>\n",
       "      <td>0.2050</td>\n",
       "      <td>0.4000</td>\n",
       "      <td>0.1625</td>\n",
       "      <td>0.2364</td>\n",
       "      <td>0.07678</td>\n",
       "    </tr>\n",
       "  </tbody>\n",
       "</table>\n",
       "<p>5 rows × 32 columns</p>\n",
       "</div>"
      ]
     },
     "execution_count": 25,
     "metadata": {},
     "output_type": "execute_result"
    }
   ],
   "execution_count": 25
  },
  {
   "cell_type": "code",
   "id": "eeb1d65f-edbe-4ba2-b469-cc047c129610",
   "metadata": {
    "ExecuteTime": {
     "end_time": "2025-09-04T17:37:18.730633Z",
     "start_time": "2025-09-04T17:37:18.726144Z"
    }
   },
   "source": [
    "#Diagnosis from object to category\n",
    "df[\"Diagnosis\"] = df[\"Diagnosis\"].astype(\"category\")\n",
    "df.dtypes"
   ],
   "outputs": [
    {
     "data": {
      "text/plain": [
       "ID                            int64\n",
       "Diagnosis                  category\n",
       "radius_mean                 float64\n",
       "texture_mean                float64\n",
       "perimeter_mean              float64\n",
       "area_mean                   float64\n",
       "smoothness_mean             float64\n",
       "compactness_mean            float64\n",
       "concavity_mean              float64\n",
       "concave_points_mean         float64\n",
       "symmetry_mean               float64\n",
       "fractal_dimension_mean      float64\n",
       "radius_se                   float64\n",
       "texture_se                  float64\n",
       "perimeter_se                float64\n",
       "area_se                     float64\n",
       "smoothness_se               float64\n",
       "compactness_se              float64\n",
       "concavity_se                float64\n",
       "concave_points_se           float64\n",
       "symmetry_se                 float64\n",
       "fractal_dimension_se        float64\n",
       "radius_worst                float64\n",
       "texture_worst               float64\n",
       "perimeter_worst             float64\n",
       "area_worst                  float64\n",
       "smoothness_worst            float64\n",
       "compactness_worst           float64\n",
       "concavity_worst             float64\n",
       "concave_points_worst        float64\n",
       "symmetry_worst              float64\n",
       "fractal_dimension_worst     float64\n",
       "dtype: object"
      ]
     },
     "execution_count": 26,
     "metadata": {},
     "output_type": "execute_result"
    }
   ],
   "execution_count": 26
  },
  {
   "cell_type": "code",
   "id": "bac72579-52b6-4c55-b483-88e04efd9842",
   "metadata": {
    "ExecuteTime": {
     "end_time": "2025-09-04T17:37:18.777956Z",
     "start_time": "2025-09-04T17:37:18.774971Z"
    }
   },
   "source": [
    "#Todetaan että data ei ole puutteellinen\n",
    "print(df.isnull().sum())"
   ],
   "outputs": [
    {
     "name": "stdout",
     "output_type": "stream",
     "text": [
      "ID                         0\n",
      "Diagnosis                  0\n",
      "radius_mean                0\n",
      "texture_mean               0\n",
      "perimeter_mean             0\n",
      "area_mean                  0\n",
      "smoothness_mean            0\n",
      "compactness_mean           0\n",
      "concavity_mean             0\n",
      "concave_points_mean        0\n",
      "symmetry_mean              0\n",
      "fractal_dimension_mean     0\n",
      "radius_se                  0\n",
      "texture_se                 0\n",
      "perimeter_se               0\n",
      "area_se                    0\n",
      "smoothness_se              0\n",
      "compactness_se             0\n",
      "concavity_se               0\n",
      "concave_points_se          0\n",
      "symmetry_se                0\n",
      "fractal_dimension_se       0\n",
      "radius_worst               0\n",
      "texture_worst              0\n",
      "perimeter_worst            0\n",
      "area_worst                 0\n",
      "smoothness_worst           0\n",
      "compactness_worst          0\n",
      "concavity_worst            0\n",
      "concave_points_worst       0\n",
      "symmetry_worst             0\n",
      "fractal_dimension_worst    0\n",
      "dtype: int64\n"
     ]
    }
   ],
   "execution_count": 27
  },
  {
   "cell_type": "code",
   "id": "b47ce424-fc72-4e94-866d-9e126385d96b",
   "metadata": {
    "ExecuteTime": {
     "end_time": "2025-09-04T17:37:18.885616Z",
     "start_time": "2025-09-04T17:37:18.881177Z"
    }
   },
   "source": [
    "from sklearn.model_selection import train_test_split\n",
    "\n",
    "X = df.drop(columns=['ID', 'Diagnosis']) #inputs\n",
    "y = df['Diagnosis'].map({'B': 0, 'M': 1}) #targets\n",
    "\n",
    "#Jaetaan koulutussettiin ja testaussettiin\n",
    "#70% koulutus ja 30% testi\n",
    "X_train, X_test, y_train, y_test = train_test_split(X, y, test_size=0.3, random_state=123, stratify = y)"
   ],
   "outputs": [],
   "execution_count": 28
  },
  {
   "cell_type": "markdown",
   "id": "a0bc4d25f361d253",
   "metadata": {},
   "source": [
    "## Modeling\n",
    "\n",
    "choose a machine learning method and train the model (+ model validation)\n",
    "- which method was used?\n",
    "- which parameters were used?\n",
    "- what was the performance of the model?\n",
    "\n",
    "For this task, the k-Nearest Neighbors (kNN) algorithm was used. The parameter k determines how many neighbors are considered to compare to the sample: smaller k values are more sensitive to higher variance, while larger k values create more generalized decision boundaries with higher bias."
   ]
  },
  {
   "cell_type": "code",
   "id": "ed2f0780-61b0-4946-8a92-f605b9d4b8c5",
   "metadata": {
    "ExecuteTime": {
     "end_time": "2025-09-04T17:37:18.957275Z",
     "start_time": "2025-09-04T17:37:18.952135Z"
    }
   },
   "source": [
    "from sklearn.preprocessing import StandardScaler\n",
    "\n",
    "scaler = StandardScaler() # initalizing standard scaler\n",
    "X_train_scaled = scaler.fit_transform(X_train) # scaling train inputs\n",
    "X_test_scaled = scaler.fit_transform(X_test) # scaling test inputs"
   ],
   "outputs": [],
   "execution_count": 29
  },
  {
   "metadata": {
    "ExecuteTime": {
     "end_time": "2025-09-04T17:42:39.441183Z",
     "start_time": "2025-09-04T17:42:39.403978Z"
    }
   },
   "cell_type": "code",
   "source": [
    "from sklearn.neighbors import KNeighborsClassifier\n",
    "from sklearn.metrics import accuracy_score, precision_score, recall_score\n",
    "\n",
    "results = []\n",
    "\n",
    "for k in [3, 5, 7, 11]: # trying different values\n",
    "    kNN = KNeighborsClassifier(n_neighbors = k)\n",
    "    kNN.fit(X_train_scaled, y_train) # building the classifier\n",
    "\n",
    "    y_pred = kNN.predict(X_train_scaled)  # predict on training set\n",
    "    \n",
    "    acc = accuracy_score(y_train, y_pred)\n",
    "    prec = precision_score(y_train, y_pred)\n",
    "    rec = recall_score(y_train, y_pred)\n",
    "\n",
    "    results.append({\"k\": k, \"Accuracy\": acc, \"Precision\": prec, \"Recall\": rec})\n",
    "\n",
    "results_df = pd.DataFrame(results) \n",
    "results_df"
   ],
   "id": "8a5edd2fd315968d",
   "outputs": [
    {
     "data": {
      "text/plain": [
       "    k  Accuracy  Precision    Recall\n",
       "0   3  0.979899   0.992958  0.952703\n",
       "1   5  0.977387   0.992908  0.945946\n",
       "2   7  0.972362   0.992806  0.932432\n",
       "3  11  0.969849   0.992754  0.925676"
      ],
      "text/html": [
       "<div>\n",
       "<style scoped>\n",
       "    .dataframe tbody tr th:only-of-type {\n",
       "        vertical-align: middle;\n",
       "    }\n",
       "\n",
       "    .dataframe tbody tr th {\n",
       "        vertical-align: top;\n",
       "    }\n",
       "\n",
       "    .dataframe thead th {\n",
       "        text-align: right;\n",
       "    }\n",
       "</style>\n",
       "<table border=\"1\" class=\"dataframe\">\n",
       "  <thead>\n",
       "    <tr style=\"text-align: right;\">\n",
       "      <th></th>\n",
       "      <th>k</th>\n",
       "      <th>Accuracy</th>\n",
       "      <th>Precision</th>\n",
       "      <th>Recall</th>\n",
       "    </tr>\n",
       "  </thead>\n",
       "  <tbody>\n",
       "    <tr>\n",
       "      <th>0</th>\n",
       "      <td>3</td>\n",
       "      <td>0.979899</td>\n",
       "      <td>0.992958</td>\n",
       "      <td>0.952703</td>\n",
       "    </tr>\n",
       "    <tr>\n",
       "      <th>1</th>\n",
       "      <td>5</td>\n",
       "      <td>0.977387</td>\n",
       "      <td>0.992908</td>\n",
       "      <td>0.945946</td>\n",
       "    </tr>\n",
       "    <tr>\n",
       "      <th>2</th>\n",
       "      <td>7</td>\n",
       "      <td>0.972362</td>\n",
       "      <td>0.992806</td>\n",
       "      <td>0.932432</td>\n",
       "    </tr>\n",
       "    <tr>\n",
       "      <th>3</th>\n",
       "      <td>11</td>\n",
       "      <td>0.969849</td>\n",
       "      <td>0.992754</td>\n",
       "      <td>0.925676</td>\n",
       "    </tr>\n",
       "  </tbody>\n",
       "</table>\n",
       "</div>"
      ]
     },
     "execution_count": 37,
     "metadata": {},
     "output_type": "execute_result"
    }
   ],
   "execution_count": 37
  },
  {
   "cell_type": "markdown",
   "id": "75bdef89-ce77-44a2-93fa-8b5d23b7c3e1",
   "metadata": {},
   "source": [
    "Based on the results, the best choice for the hyperparameter is k = 3, as it provides the highest precision as well as the recall. In the context of cancer diagnosis, recall is especially important, since failing to correctly identify malignant cases can have serious consequences, and having a \"false alarm\" is more acceptable of the two."
   ]
  },
  {
   "metadata": {
    "ExecuteTime": {
     "end_time": "2025-09-04T17:37:19.155020Z",
     "start_time": "2025-09-04T17:37:19.073566Z"
    }
   },
   "cell_type": "code",
   "source": [
    "from sklearn.metrics import confusion_matrix, ConfusionMatrixDisplay\n",
    "\n",
    "# choosing the best value for k\n",
    "k_best = 3\n",
    "kNN_best = KNeighborsClassifier(n_neighbors = k_best)\n",
    "kNN_best.fit(X_train_scaled, y_train)\n",
    "\n",
    "y_pred_best = kNN_best.predict(X_test_scaled) # predict with testing set\n",
    "\n",
    "print(f\"\\nResults for k = {k_best}\")\n",
    "print(\"Accuracy:\", accuracy_score(y_test, y_pred_best))\n",
    "print(\"Precision:\", precision_score(y_test, y_pred_best))\n",
    "print(\"Recall:\", recall_score(y_test, y_pred_best))\n",
    "\n",
    "cm = confusion_matrix(y_test, y_pred_best)\n",
    "cmd = ConfusionMatrixDisplay(cm, display_labels=['Benign', 'Malignant'])\n",
    "cmd.plot()"
   ],
   "id": "1be88953f4a861a7",
   "outputs": [
    {
     "name": "stdout",
     "output_type": "stream",
     "text": [
      "\n",
      "Results for k = 3\n",
      "Accuracy: 0.9590643274853801\n",
      "Precision: 0.9830508474576272\n",
      "Recall: 0.90625\n"
     ]
    },
    {
     "data": {
      "text/plain": [
       "<sklearn.metrics._plot.confusion_matrix.ConfusionMatrixDisplay at 0x23cdfd6ac10>"
      ]
     },
     "execution_count": 31,
     "metadata": {},
     "output_type": "execute_result"
    },
    {
     "data": {
      "text/plain": [
       "<Figure size 640x480 with 2 Axes>"
      ],
      "image/png": "[encoded data removed]"
     },
     "metadata": {},
     "output_type": "display_data"
    }
   ],
   "execution_count": 31
  },
  {
   "cell_type": "markdown",
   "id": "c7a667a15cc1e506",
   "metadata": {},
   "source": [
    "## Evaluation\n",
    "\n",
    "evaluate the model\n",
    "- How well does the model perform?\n",
    "- Does it meet the business requirements?"
   ]
  },
  {
   "cell_type": "code",
   "id": "ac814f5d4cff5efc",
   "metadata": {
    "ExecuteTime": {
     "end_time": "2025-09-04T17:37:19.176075Z",
     "start_time": "2025-09-04T17:37:19.174033Z"
    }
   },
   "source": [
    "# hello world"
   ],
   "outputs": [],
   "execution_count": 32
  },
  {
   "metadata": {},
   "cell_type": "markdown",
   "source": [
    "## Deployment\n",
    "\n",
    "johtopaatos / creating a recommendation of how to use the model in practice, or what to do next\n",
    "- How will the model be used in practice?\n",
    "- How will the results be communicated?\n",
    "\n",
    "Model used for educational purposes and due to earlier described training issues is not safe to use in any real business circumstance"
   ],
   "id": "9bf0b2aca0252ebc"
  },
  {
   "metadata": {},
   "cell_type": "code",
   "outputs": [],
   "execution_count": null,
   "source": "# hello world",
   "id": "87756309f6891dab"
  },
  {
   "cell_type": "markdown",
   "id": "54766e56a25030e0",
   "metadata": {},
   "source": [
    "### Reflection\n",
    "\n",
    "#### Ai Usage\n",
    "- for research\n",
    "\n",
    "#### Team contribution\n",
    "- who did what\n",
    "\n",
    "#### Sources\n",
    "- links & descriptions"
   ]
  }
 ],
 "metadata": {
  "kernelspec": {
   "display_name": "Python 3 (ipykernel)",
   "language": "python",
   "name": "python3"
  },
  "language_info": {
   "codemirror_mode": {
    "name": "ipython",
    "version": 3
   },
   "file_extension": ".py",
   "mimetype": "text/x-python",
   "name": "python",
   "nbconvert_exporter": "python",
   "pygments_lexer": "ipython3",
   "version": "3.13.5"
  }
 },
 "nbformat": 4,
 "nbformat_minor": 5
}
