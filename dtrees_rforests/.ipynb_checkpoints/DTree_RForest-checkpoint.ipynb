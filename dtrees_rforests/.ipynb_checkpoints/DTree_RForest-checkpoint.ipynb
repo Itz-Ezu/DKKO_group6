{
 "cells": [
  {
   "cell_type": "markdown",
   "id": "d2966e82c09c9183",
   "metadata": {},
   "source": [
    "# Assignment: Decision trees and random forests\n",
    "\n",
    "## Business understanding\n",
    "\n",
    "Define business problem that needs to be solved.\n",
    "- What is the goal of the analysis?\n",
    "- What are the requirements and constraints?\n",
    "- What is the expected outcome?\n",
    "\n",
    "Objectives of this assignment are to make decision trees to build a transparent, human-readable predictive model and use random forests for improved predictive performance."
   ]
  },
  {
   "cell_type": "code",
   "execution_count": 1,
   "id": "c4d460ea3cb7380e",
   "metadata": {},
   "outputs": [],
   "source": [
    "# hello world"
   ]
  },
  {
   "cell_type": "markdown",
   "id": "def2b411dd31d480",
   "metadata": {},
   "source": [
    "## Data understanding\n",
    "\n",
    "collect and explore the data.\n",
    "- What data is available? What are the characteristics of the data (variable types, value distributions etc.)?\n",
    "- Are there any quality issues with the data (missing values, outliers, nonsensical values)?"
   ]
  },
  {
   "cell_type": "code",
   "execution_count": 2,
   "id": "ba44efdc-6847-4957-a41f-6e00961a9b41",
   "metadata": {
    "scrolled": true
   },
   "outputs": [
    {
     "name": "stdout",
     "output_type": "stream",
     "text": [
      "Requirement already satisfied: ucimlrepo in c:\\users\\maria\\anaconda3\\lib\\site-packages (0.0.7)\n",
      "Requirement already satisfied: pandas>=1.0.0 in c:\\users\\maria\\anaconda3\\lib\\site-packages (from ucimlrepo) (2.2.3)\n",
      "Requirement already satisfied: certifi>=2020.12.5 in c:\\users\\maria\\anaconda3\\lib\\site-packages (from ucimlrepo) (2025.4.26)\n",
      "Requirement already satisfied: numpy>=1.26.0 in c:\\users\\maria\\anaconda3\\lib\\site-packages (from pandas>=1.0.0->ucimlrepo) (2.1.3)\n",
      "Requirement already satisfied: python-dateutil>=2.8.2 in c:\\users\\maria\\anaconda3\\lib\\site-packages (from pandas>=1.0.0->ucimlrepo) (2.9.0.post0)\n",
      "Requirement already satisfied: pytz>=2020.1 in c:\\users\\maria\\anaconda3\\lib\\site-packages (from pandas>=1.0.0->ucimlrepo) (2024.1)\n",
      "Requirement already satisfied: tzdata>=2022.7 in c:\\users\\maria\\anaconda3\\lib\\site-packages (from pandas>=1.0.0->ucimlrepo) (2025.2)\n",
      "Requirement already satisfied: six>=1.5 in c:\\users\\maria\\anaconda3\\lib\\site-packages (from python-dateutil>=2.8.2->pandas>=1.0.0->ucimlrepo) (1.17.0)\n",
      "Note: you may need to restart the kernel to use updated packages.\n"
     ]
    }
   ],
   "source": [
    "pip install ucimlrepo"
   ]
  },
  {
   "cell_type": "code",
   "execution_count": 3,
   "id": "5b45f04d0416bc1f",
   "metadata": {},
   "outputs": [
    {
     "name": "stdout",
     "output_type": "stream",
     "text": [
      "{'uci_id': 327, 'name': 'Phishing Websites', 'repository_url': 'https://archive.ics.uci.edu/dataset/327/phishing+websites', 'data_url': 'https://archive.ics.uci.edu/static/public/327/data.csv', 'abstract': 'This dataset collected mainly from: PhishTank archive, MillerSmiles archive, Googleâ€™s searching operators.', 'area': 'Computer Science', 'tasks': ['Classification'], 'characteristics': ['Tabular'], 'num_instances': 11055, 'num_features': 30, 'feature_types': ['Integer'], 'demographics': [], 'target_col': ['result'], 'index_col': None, 'has_missing_values': 'no', 'missing_values_symbol': None, 'year_of_dataset_creation': 2012, 'last_updated': 'Tue Mar 05 2024', 'dataset_doi': '10.24432/C51W2X', 'creators': ['Rami Mohammad', 'Lee McCluskey'], 'intro_paper': {'ID': 396, 'type': 'NATIVE', 'title': 'An assessment of features related to phishing websites using an automated technique', 'authors': 'R. Mohammad, F. Thabtah, L. Mccluskey', 'venue': 'International Conference for Internet Technology and Secured Transactions', 'year': 2012, 'journal': None, 'DOI': None, 'URL': 'https://www.semanticscholar.org/paper/An-assessment-of-features-related-to-phishing-using-Mohammad-Thabtah/0c0ff58063f4e078714ea74f112bc709ba9fed06', 'sha': None, 'corpus': None, 'arxiv': None, 'mag': None, 'acl': None, 'pmid': None, 'pmcid': None}, 'additional_info': {'summary': 'One of the challenges faced by our research was the unavailability of reliable training datasets. In fact this challenge faces any researcher in the field. However, although plenty of articles about predicting phishing websites have been disseminated these days, no reliable training dataset has been published publically, may be because there is no agreement in literature on the definitive features that characterize phishing webpages, hence it is difficult to shape a dataset that covers all possible features. \\r\\nIn this dataset, we shed light on the important features that have proved to be sound and effective in predicting phishing websites. In addition, we propose some new features.', 'purpose': None, 'funded_by': None, 'instances_represent': None, 'recommended_data_splits': None, 'sensitive_data': None, 'preprocessing_description': None, 'variable_info': 'For Further information about the features see the features file in the data folder.', 'citation': None}}\n",
      "                          name     role     type demographic description  \\\n",
      "0            having_ip_address  Feature  Integer        None        None   \n",
      "1                   url_length  Feature  Integer        None        None   \n",
      "2           shortining_service  Feature  Integer        None        None   \n",
      "3             having_at_symbol  Feature  Integer        None        None   \n",
      "4     double_slash_redirecting  Feature  Integer        None        None   \n",
      "5                prefix_suffix  Feature  Integer        None        None   \n",
      "6            having_sub_domain  Feature  Integer        None        None   \n",
      "7               sslfinal_state  Feature  Integer        None        None   \n",
      "8   domain_registration_length  Feature  Integer        None        None   \n",
      "9                      favicon  Feature  Integer        None        None   \n",
      "10                        port  Feature  Integer        None        None   \n",
      "11                 https_token  Feature  Integer        None        None   \n",
      "12                 request_url  Feature  Integer        None        None   \n",
      "13               url_of_anchor  Feature  Integer        None        None   \n",
      "14               links_in_tags  Feature  Integer        None        None   \n",
      "15                         sfh  Feature  Integer        None        None   \n",
      "16         submitting_to_email  Feature  Integer        None        None   \n",
      "17                abnormal_url  Feature  Integer        None        None   \n",
      "18                    redirect  Feature  Integer        None        None   \n",
      "19                on_mouseover  Feature  Integer        None        None   \n",
      "20                  rightclick  Feature  Integer        None        None   \n",
      "21                 popupwindow  Feature  Integer        None        None   \n",
      "22                      iframe  Feature  Integer        None        None   \n",
      "23               age_of_domain  Feature  Integer        None        None   \n",
      "24                   dnsrecord  Feature  Integer        None        None   \n",
      "25                 web_traffic  Feature  Integer        None        None   \n",
      "26                   page_rank  Feature  Integer        None        None   \n",
      "27                google_index  Feature  Integer        None        None   \n",
      "28      links_pointing_to_page  Feature  Integer        None        None   \n",
      "29          statistical_report  Feature  Integer        None        None   \n",
      "30                      result   Target  Integer        None        None   \n",
      "\n",
      "   units missing_values  \n",
      "0   None             no  \n",
      "1   None             no  \n",
      "2   None             no  \n",
      "3   None             no  \n",
      "4   None             no  \n",
      "5   None             no  \n",
      "6   None             no  \n",
      "7   None             no  \n",
      "8   None             no  \n",
      "9   None             no  \n",
      "10  None             no  \n",
      "11  None             no  \n",
      "12  None             no  \n",
      "13  None             no  \n",
      "14  None             no  \n",
      "15  None             no  \n",
      "16  None             no  \n",
      "17  None             no  \n",
      "18  None             no  \n",
      "19  None             no  \n",
      "20  None             no  \n",
      "21  None             no  \n",
      "22  None             no  \n",
      "23  None             no  \n",
      "24  None             no  \n",
      "25  None             no  \n",
      "26  None             no  \n",
      "27  None             no  \n",
      "28  None             no  \n",
      "29  None             no  \n",
      "30  None             no  \n"
     ]
    }
   ],
   "source": [
    "from ucimlrepo import fetch_ucirepo \n",
    "  \n",
    "# fetch dataset \n",
    "phishing_websites = fetch_ucirepo(id=327) \n",
    "  \n",
    "# data (as pandas dataframes) \n",
    "X = phishing_websites.data.features \n",
    "y = phishing_websites.data.targets \n",
    "  \n",
    "# metadata \n",
    "print(phishing_websites.metadata) \n",
    "  \n",
    "# variable information \n",
    "print(phishing_websites.variables) \n"
   ]
  },
  {
   "cell_type": "code",
   "execution_count": 4,
   "id": "479ec938-b32f-44ba-a068-30f211d14fe5",
   "metadata": {},
   "outputs": [
    {
     "data": {
      "text/html": [
       "<div>\n",
       "<style scoped>\n",
       "    .dataframe tbody tr th:only-of-type {\n",
       "        vertical-align: middle;\n",
       "    }\n",
       "\n",
       "    .dataframe tbody tr th {\n",
       "        vertical-align: top;\n",
       "    }\n",
       "\n",
       "    .dataframe thead th {\n",
       "        text-align: right;\n",
       "    }\n",
       "</style>\n",
       "<table border=\"1\" class=\"dataframe\">\n",
       "  <thead>\n",
       "    <tr style=\"text-align: right;\">\n",
       "      <th></th>\n",
       "      <th>having_ip_address</th>\n",
       "      <th>url_length</th>\n",
       "      <th>shortining_service</th>\n",
       "      <th>having_at_symbol</th>\n",
       "      <th>double_slash_redirecting</th>\n",
       "      <th>prefix_suffix</th>\n",
       "      <th>having_sub_domain</th>\n",
       "      <th>sslfinal_state</th>\n",
       "      <th>domain_registration_length</th>\n",
       "      <th>favicon</th>\n",
       "      <th>...</th>\n",
       "      <th>popupwindow</th>\n",
       "      <th>iframe</th>\n",
       "      <th>age_of_domain</th>\n",
       "      <th>dnsrecord</th>\n",
       "      <th>web_traffic</th>\n",
       "      <th>page_rank</th>\n",
       "      <th>google_index</th>\n",
       "      <th>links_pointing_to_page</th>\n",
       "      <th>statistical_report</th>\n",
       "      <th>result</th>\n",
       "    </tr>\n",
       "  </thead>\n",
       "  <tbody>\n",
       "    <tr>\n",
       "      <th>0</th>\n",
       "      <td>-1</td>\n",
       "      <td>1</td>\n",
       "      <td>1</td>\n",
       "      <td>1</td>\n",
       "      <td>-1</td>\n",
       "      <td>-1</td>\n",
       "      <td>-1</td>\n",
       "      <td>-1</td>\n",
       "      <td>-1</td>\n",
       "      <td>1</td>\n",
       "      <td>...</td>\n",
       "      <td>1</td>\n",
       "      <td>1</td>\n",
       "      <td>-1</td>\n",
       "      <td>-1</td>\n",
       "      <td>-1</td>\n",
       "      <td>-1</td>\n",
       "      <td>1</td>\n",
       "      <td>1</td>\n",
       "      <td>-1</td>\n",
       "      <td>-1</td>\n",
       "    </tr>\n",
       "    <tr>\n",
       "      <th>1</th>\n",
       "      <td>1</td>\n",
       "      <td>1</td>\n",
       "      <td>1</td>\n",
       "      <td>1</td>\n",
       "      <td>1</td>\n",
       "      <td>-1</td>\n",
       "      <td>0</td>\n",
       "      <td>1</td>\n",
       "      <td>-1</td>\n",
       "      <td>1</td>\n",
       "      <td>...</td>\n",
       "      <td>1</td>\n",
       "      <td>1</td>\n",
       "      <td>-1</td>\n",
       "      <td>-1</td>\n",
       "      <td>0</td>\n",
       "      <td>-1</td>\n",
       "      <td>1</td>\n",
       "      <td>1</td>\n",
       "      <td>1</td>\n",
       "      <td>-1</td>\n",
       "    </tr>\n",
       "    <tr>\n",
       "      <th>2</th>\n",
       "      <td>1</td>\n",
       "      <td>0</td>\n",
       "      <td>1</td>\n",
       "      <td>1</td>\n",
       "      <td>1</td>\n",
       "      <td>-1</td>\n",
       "      <td>-1</td>\n",
       "      <td>-1</td>\n",
       "      <td>-1</td>\n",
       "      <td>1</td>\n",
       "      <td>...</td>\n",
       "      <td>1</td>\n",
       "      <td>1</td>\n",
       "      <td>1</td>\n",
       "      <td>-1</td>\n",
       "      <td>1</td>\n",
       "      <td>-1</td>\n",
       "      <td>1</td>\n",
       "      <td>0</td>\n",
       "      <td>-1</td>\n",
       "      <td>-1</td>\n",
       "    </tr>\n",
       "    <tr>\n",
       "      <th>3</th>\n",
       "      <td>1</td>\n",
       "      <td>0</td>\n",
       "      <td>1</td>\n",
       "      <td>1</td>\n",
       "      <td>1</td>\n",
       "      <td>-1</td>\n",
       "      <td>-1</td>\n",
       "      <td>-1</td>\n",
       "      <td>1</td>\n",
       "      <td>1</td>\n",
       "      <td>...</td>\n",
       "      <td>1</td>\n",
       "      <td>1</td>\n",
       "      <td>-1</td>\n",
       "      <td>-1</td>\n",
       "      <td>1</td>\n",
       "      <td>-1</td>\n",
       "      <td>1</td>\n",
       "      <td>-1</td>\n",
       "      <td>1</td>\n",
       "      <td>-1</td>\n",
       "    </tr>\n",
       "    <tr>\n",
       "      <th>4</th>\n",
       "      <td>1</td>\n",
       "      <td>0</td>\n",
       "      <td>-1</td>\n",
       "      <td>1</td>\n",
       "      <td>1</td>\n",
       "      <td>-1</td>\n",
       "      <td>1</td>\n",
       "      <td>1</td>\n",
       "      <td>-1</td>\n",
       "      <td>1</td>\n",
       "      <td>...</td>\n",
       "      <td>-1</td>\n",
       "      <td>1</td>\n",
       "      <td>-1</td>\n",
       "      <td>-1</td>\n",
       "      <td>0</td>\n",
       "      <td>-1</td>\n",
       "      <td>1</td>\n",
       "      <td>1</td>\n",
       "      <td>1</td>\n",
       "      <td>1</td>\n",
       "    </tr>\n",
       "  </tbody>\n",
       "</table>\n",
       "<p>5 rows × 31 columns</p>\n",
       "</div>"
      ],
      "text/plain": [
       "   having_ip_address  url_length  shortining_service  having_at_symbol  \\\n",
       "0                 -1           1                   1                 1   \n",
       "1                  1           1                   1                 1   \n",
       "2                  1           0                   1                 1   \n",
       "3                  1           0                   1                 1   \n",
       "4                  1           0                  -1                 1   \n",
       "\n",
       "   double_slash_redirecting  prefix_suffix  having_sub_domain  sslfinal_state  \\\n",
       "0                        -1             -1                 -1              -1   \n",
       "1                         1             -1                  0               1   \n",
       "2                         1             -1                 -1              -1   \n",
       "3                         1             -1                 -1              -1   \n",
       "4                         1             -1                  1               1   \n",
       "\n",
       "   domain_registration_length  favicon  ...  popupwindow  iframe  \\\n",
       "0                          -1        1  ...            1       1   \n",
       "1                          -1        1  ...            1       1   \n",
       "2                          -1        1  ...            1       1   \n",
       "3                           1        1  ...            1       1   \n",
       "4                          -1        1  ...           -1       1   \n",
       "\n",
       "   age_of_domain  dnsrecord  web_traffic  page_rank  google_index  \\\n",
       "0             -1         -1           -1         -1             1   \n",
       "1             -1         -1            0         -1             1   \n",
       "2              1         -1            1         -1             1   \n",
       "3             -1         -1            1         -1             1   \n",
       "4             -1         -1            0         -1             1   \n",
       "\n",
       "   links_pointing_to_page  statistical_report  result  \n",
       "0                       1                  -1      -1  \n",
       "1                       1                   1      -1  \n",
       "2                       0                  -1      -1  \n",
       "3                      -1                   1      -1  \n",
       "4                       1                   1       1  \n",
       "\n",
       "[5 rows x 31 columns]"
      ]
     },
     "execution_count": 4,
     "metadata": {},
     "output_type": "execute_result"
    }
   ],
   "source": [
    "import pandas as pd\n",
    "\n",
    "# Yhdistetään ominaisuudet (X) ja target (y) yhdeksi DataFrameksi\n",
    "df = pd.concat([X, y], axis=1)\n",
    "\n",
    "# Katsotaan alku ymmärtämisen helpottamiseksi\n",
    "df.head()"
   ]
  },
  {
   "cell_type": "markdown",
   "id": "d8c79da3-7a0d-4224-a4ca-1cc1c1da2a58",
   "metadata": {},
   "source": [
    "## Provided specifications\n",
    "\n",
    "Data consists of 31 attributes:  \n",
    "- 30 numeric variables (features)  \n",
    "- 1 target variable (result)  \n",
    "\n",
    "### Target variable:\n",
    "- **result**: Legitimate (1) / Phishing (-1)\n",
    "\n",
    "\n",
    "### Measured features (numeric):\n",
    "\n",
    "| Feature Name               | Description | Values |\n",
    "|-----------------------------|-------------|--------|\n",
    "| having_ip_address           | Checks if an IP address is used instead of a domain name in the URL. | Legitimate (1), Phishing (-1) |\n",
    "| url_length                  | Length of the URL; long URLs may hide suspicious parts. | Legitimate (1), Suspicious (0), Phishing (-1) |\n",
    "| shortining_service          | Whether a URL shortening service (e.g., bit.ly) is used. | Legitimate (1), Phishing (-1) |\n",
    "| having_at_symbol            | Presence of “@” symbol in the URL, which can obscure the true address. | Legitimate (1), Phishing (-1) |\n",
    "| double_slash_redirecting    | Presence and location of “//” in the URL path (may redirect). | Legitimate (1), Phishing (-1) |\n",
    "| prefix_suffix               | Usage of “-” in the domain (rare in legitimate URLs). | Legitimate (1), Phishing (-1) |\n",
    "| having_sub_domain           | Count of subdomains in the URL; multiple subdomains can be suspicious. | Legitimate (1), Suspicious (0), Phishing (-1) |\n",
    "| sslfinal_state              | Presence and validity of HTTPS/SSL certificate. | Legitimate (1), Suspicious (0), Phishing (-1) |\n",
    "| domain_registration_length  | Domain age based on WHOIS info; short-lived domains are suspicious. | Legitimate (1), Phishing (-1) |\n",
    "| favicon                     | Whether favicon is loaded from another domain. | Legitimate (1), Phishing (-1) |\n",
    "| port                        | Usage of non-standard or uncommon ports. | Legitimate (1), Phishing (-1) |\n",
    "| https_token                 | Presence of misleading “https” token in the domain part of the URL. | Legitimate (1), Phishing (-1) |\n",
    "| request_url                 | External objects (images, videos, etc.) loaded from another domain. | Legitimate (1), Phishing (-1) |\n",
    "| url_of_anchor               | Examines `<a>` tags; empty or irrelevant anchors are suspicious. | Legitimate (1), Suspicious (0), Phishing (-1) |\n",
    "| links_in_tags               | Links in `<Meta>`, `<Script>`, `<Link>` tags pointing outside the domain. | Legitimate (1), Suspicious (0), Phishing (-1) |\n",
    "| sfh                         | Server Form Handler — empty or mismatched domain in forms. | Legitimate (1), Suspicious (0), Phishing (-1) |\n",
    "| submitting_to_email         | Whether forms submit data directly to an email address. | Legitimate (1), Phishing (-1) |\n",
    "| abnormal_url                | Whether the URL identity mismatches WHOIS information. | Legitimate (1), Phishing (-1) |\n",
    "| redirect                    | Number of redirects the page performs. | Legitimate (1), Suspicious (0) |\n",
    "| on_mouseover                | JavaScript that changes status bar on hover (hides true URL). | Legitimate (1), Phishing (-1) |\n",
    "| rightclick                  | JavaScript disabling right-click (prevents source inspection). | Legitimate (1), Phishing (-1) |\n",
    "| popupwindow                 | Usage of pop-up windows requesting user information. | Legitimate (1), Phishing (-1) |\n",
    "| iframe                      | Presence of hidden iframes in the page. | Legitimate (1), Phishing (-1) |\n",
    "| age_of_domain               | Domain age from WHOIS records (short-lived → suspicious). | Legitimate (1), Phishing (-1) |\n",
    "| dnsrecord                   | Existence of DNS records for the domain. | Legitimate (1), Phishing (-1) |\n",
    "| web_traffic                 | Website popularity/traffic from Alexa ranking. | Legitimate (1), Suspicious (0), Phishing (-1) |\n",
    "| page_rank                   | PageRank score of the website (legitimacy indicator). | Legitimate (1), Phishing (-1) |\n",
    "| google_index                | Whether the site is indexed by Google. | Legitimate (1), Phishing (-1) |\n",
    "| links_pointing_to_page      | Number of external links pointing to the webpage. | Legitimate (1), Suspicious (0), Phishing (-1) |\n",
    "| statistical_report          | Matches domains/IPs from phishing blacklists (PhishTank, StopBadware). | Legitimate (1), Phishing (-1) |\n"
   ]
  },
  {
   "cell_type": "code",
   "execution_count": 5,
   "id": "61318d18-44be-4812-ab22-ecdabe792c92",
   "metadata": {},
   "outputs": [
    {
     "name": "stdout",
     "output_type": "stream",
     "text": [
      "having_ip_address [-1  1]\n",
      "url_length [ 1  0 -1]\n",
      "shortining_service [ 1 -1]\n",
      "having_at_symbol [ 1 -1]\n",
      "double_slash_redirecting [-1  1]\n",
      "prefix_suffix [-1  1]\n",
      "having_sub_domain [-1  0  1]\n",
      "sslfinal_state [-1  1  0]\n",
      "domain_registration_length [-1  1]\n",
      "favicon [ 1 -1]\n",
      "port [ 1 -1]\n",
      "https_token [-1  1]\n",
      "request_url [ 1 -1]\n",
      "url_of_anchor [-1  0  1]\n",
      "links_in_tags [ 1 -1  0]\n",
      "sfh [-1  1  0]\n",
      "submitting_to_email [-1  1]\n",
      "abnormal_url [-1  1]\n",
      "redirect [0 1]\n",
      "on_mouseover [ 1 -1]\n",
      "rightclick [ 1 -1]\n",
      "popupwindow [ 1 -1]\n",
      "iframe [ 1 -1]\n",
      "age_of_domain [-1  1]\n",
      "dnsrecord [-1  1]\n",
      "web_traffic [-1  0  1]\n",
      "page_rank [-1  1]\n",
      "google_index [ 1 -1]\n",
      "links_pointing_to_page [ 1  0 -1]\n",
      "statistical_report [-1  1]\n",
      "result [-1  1]\n"
     ]
    }
   ],
   "source": [
    "#Tarkistetaan mitä valueita voi olla missäkin ominaisuudessa.\n",
    "for col in df.columns:\n",
    "    print(col, df[col].unique())"
   ]
  },
  {
   "cell_type": "markdown",
   "id": "a181f66c0277a091",
   "metadata": {},
   "source": [
    "## Data preparation\n",
    "\n",
    "data preprocessing\n",
    "- cleaning the data\n",
    "- transforming the data\n",
    "- selecting the relevant features"
   ]
  },
  {
   "cell_type": "markdown",
   "id": "1e0ab2a3-be46-4473-8439-f921eb764039",
   "metadata": {},
   "source": [
    "### Splitting data"
   ]
  },
  {
   "cell_type": "code",
   "execution_count": 6,
   "id": "74b6aaac359e9db5",
   "metadata": {},
   "outputs": [],
   "source": [
    "from sklearn.model_selection import train_test_split\n",
    "\n",
    "# 70% of the data will be used for training, 30% for testing\n",
    "randomstate = 123\n",
    "X_train, X_test, y_train, y_test = train_test_split(X, y, test_size = 0.3, random_state = randomstate)"
   ]
  },
  {
   "cell_type": "markdown",
   "id": "a0bc4d25f361d253",
   "metadata": {},
   "source": [
    "## Decision Tree\n",
    "\n",
    "choose a machine learning method and train the model (+ model validation)\n",
    "- which method was used?\n",
    "- which parameters were used?\n",
    "- what was the performance of the model?"
   ]
  },
  {
   "cell_type": "markdown",
   "id": "163766b6-77d2-4863-b05c-d6f65f8a68a0",
   "metadata": {},
   "source": [
    "We used a Decision Tree Classifier as the machine learning method. This method builds a tree of “if–else” rules that split the dataset based on feature values, predicting whether a site is phishing or legitimate. The parameter for max_depth was only used in constructing the figure for readability purposes, and was not used in the classifier as it decreases accuracy considerably when dealing with a large number of attributes."
   ]
  },
  {
   "cell_type": "code",
   "execution_count": 7,
   "id": "5b073115-dc50-4b09-8deb-c71ef86a187d",
   "metadata": {},
   "outputs": [
    {
     "data": {
      "image/png": "[encoded data removed]",
      "text/plain": [
       "<Figure size 1000x800 with 1 Axes>"
      ]
     },
     "metadata": {},
     "output_type": "display_data"
    }
   ],
   "source": [
    "import matplotlib.pyplot as plt\n",
    "from sklearn.tree import DecisionTreeClassifier, plot_tree  \n",
    "\n",
    "# build the classifier\n",
    "model = DecisionTreeClassifier(random_state = randomstate)\n",
    "model.fit(X_train, y_train)\n",
    "\n",
    "# create the decision tree figure\n",
    "fig = plt.figure(figsize = (10, 8))\n",
    "plot_tree(model, max_depth = 2, feature_names = X.keys(), class_names = ['phishing', 'legitimate'])\n",
    "plt.show()"
   ]
  },
  {
   "cell_type": "code",
   "execution_count": 8,
   "id": "3e986525-376d-4d91-b7af-600926d96df6",
   "metadata": {
    "scrolled": true
   },
   "outputs": [
    {
     "data": {
      "text/plain": [
       "array([[1431,   77],\n",
       "       [  55, 1754]])"
      ]
     },
     "execution_count": 8,
     "metadata": {},
     "output_type": "execute_result"
    }
   ],
   "source": [
    "from sklearn.metrics import confusion_matrix\n",
    "\n",
    "preds = model.predict(X_test) # predicting with the decision tree using the test set\n",
    "confusion_matrix(y_test, preds) # printing a confusion matrix of the results"
   ]
  },
  {
   "cell_type": "markdown",
   "id": "5bbbb210-227e-4c88-be1b-af3b038a5ef9",
   "metadata": {},
   "source": [
    "Based on the results of the test set, 77 phishing websites were incorrectly labeled as legitimate, and conversely 55 legitimate sites were named to be phishing. However, 3185 sites in total were predicted correctly."
   ]
  },
  {
   "cell_type": "code",
   "execution_count": 9,
   "id": "8fa5d0b7-46de-4a68-8f75-508e748ca642",
   "metadata": {},
   "outputs": [
    {
     "name": "stdout",
     "output_type": "stream",
     "text": [
      "\n",
      "--- Evaluation Metrics for the Decision Tree ---\n",
      "\n",
      "Accuracy: 0.9602050045221586\n",
      "Precision: 0.9579464773347898\n",
      "Recall: 0.9695964621337756\n",
      "F1 Score: 0.9637362637362638\n"
     ]
    }
   ],
   "source": [
    "from sklearn.metrics import accuracy_score, precision_score, recall_score, f1_score\n",
    "\n",
    "# print evaluation metrics\n",
    "print(\"\\n--- Evaluation Metrics for the Decision Tree ---\\n\")\n",
    "print(\"Accuracy:\", accuracy_score(y_test, preds))\n",
    "print(\"Precision:\", precision_score(y_test, preds))\n",
    "print(\"Recall:\", recall_score(y_test, preds))\n",
    "print(\"F1 Score:\", f1_score(y_test, preds))"
   ]
  },
  {
   "cell_type": "markdown",
   "id": "44c8931c-1c84-4ccd-985d-ea7663dba903",
   "metadata": {},
   "source": [
    "### Instructions for an internet analyst\n",
    "\n",
    "These instructions allow an analyst to manually classify a website as phishing or legitimate based on the decision tree model demonstrated above.\n",
    "\n",
    "#### **Step 1:** Check the presence and validity of HTTPS/SSL certificate | *sslfinal_state* \n",
    "\n",
    "If there is no valid HTTPS/SLL certificate, classify the site as phishing.\n",
    "\n",
    "Otherwise, continue to Step 2.\n",
    "\n",
    "#### **Step 2:** Examine <a> tags; empty or irrelevant anchors are suspicious | *url_of_anchor*\n",
    "\n",
    "If there is a notable amount of empty or irrelevant anchors, classify as phishing.\n",
    "\n",
    "If there are some empty or irrelevant anchors, classify as suspicious and continue to Step 3, as well as if there are none.\n",
    "\n",
    "#### **Step 3:** Check the website's popularity/traffic from Alexa ranking | *web_traffic*\n",
    "\n",
    "If there is no popularity nor traffic, classify as phishing.\n",
    "\n",
    "If there is some popularity or traffic, classify as suspicious and continue to examine the attributes of the website.\n",
    "\n",
    "Otherwise, classify the site as legitimate."
   ]
  },
  {
   "cell_type": "markdown",
   "id": "301a07ef-0b9b-4a2f-b81a-6a9596000d21",
   "metadata": {},
   "source": [
    "## Random Forest\n",
    "\n",
    "choose a machine learning method and train the model (+ model validation)\n",
    "- which method was used?\n",
    "- which parameters were used?\n",
    "- what was the performance of the model?"
   ]
  },
  {
   "cell_type": "code",
   "execution_count": 10,
   "id": "71ce138fe8099aae",
   "metadata": {},
   "outputs": [],
   "source": [
    "# hello world"
   ]
  },
  {
   "cell_type": "markdown",
   "id": "c7a667a15cc1e506",
   "metadata": {},
   "source": [
    "## Evaluation\n",
    "\n",
    "evaluate the model\n",
    "- How well does the model perform?\n",
    "- Does it meet the business requirements?"
   ]
  },
  {
   "cell_type": "code",
   "execution_count": 11,
   "id": "ac814f5d4cff5efc",
   "metadata": {},
   "outputs": [],
   "source": [
    "# hell world"
   ]
  },
  {
   "cell_type": "markdown",
   "id": "78f5929792c501d8",
   "metadata": {},
   "source": [
    "## Deployment\n",
    "\n",
    "johtopäätös / creating a recommendation of how to use the model in practice, or what to do next\n",
    "- How will the model be used in practice?\n",
    "- How will the results be communicated?"
   ]
  },
  {
   "cell_type": "code",
   "execution_count": 12,
   "id": "13be5d0c7da83b07",
   "metadata": {},
   "outputs": [],
   "source": [
    "# hello world"
   ]
  },
  {
   "cell_type": "markdown",
   "id": "54766e56a25030e0",
   "metadata": {},
   "source": [
    "### Reflection\n",
    "\n",
    "#### Ai Usage\n",
    "- for research\n",
    "\n",
    "#### Team contribution\n",
    "- who did what\n",
    "\n",
    "#### Sources\n",
    "- links & descriptions"
   ]
  }
 ],
 "metadata": {
  "kernelspec": {
   "display_name": "Python 3 (ipykernel)",
   "language": "python",
   "name": "python3"
  },
  "language_info": {
   "codemirror_mode": {
    "name": "ipython",
    "version": 3
   },
   "file_extension": ".py",
   "mimetype": "text/x-python",
   "name": "python",
   "nbconvert_exporter": "python",
   "pygments_lexer": "ipython3",
   "version": "3.13.5"
  }
 },
 "nbformat": 4,
 "nbformat_minor": 5
}
