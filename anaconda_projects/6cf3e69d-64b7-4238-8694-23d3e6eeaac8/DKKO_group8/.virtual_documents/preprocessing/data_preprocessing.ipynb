


import pandas as pd

#Arff muuttaminen käytettävään muotoon 
#Source: https://stackoverflow.com/questions/62653514/open-an-arff-file-with-scipy-io/66939746#66939746 

data = []
with open('./kidney/chronic_kidney_disease_full.arff', "r") as f:
    for line in f:
        line = line.replace('\n', '')
        data.append(line.split(','))


names = ['age', 'bp', 'sg', 'al', 'su', 'rbc', 'pc', 'pcc', 'ba',
         'bgr', 'bu',  'sc', 'sod', 'pot', 'hemo', 'pcv', 'wbcc',
         'rbcc', 'htn', 'dm', 'cad', 'appet', 'pe', 'ane',
         'class', 'no_name']
    
df = pd.DataFrame(data[145:], columns=names)



df.describe()


#Dropataan ei halutut kolumnit tarpeettomuuden vuoksi
df = df.drop(columns=[
    'no_name', 'rbc', 'pc', 'pcc', 'ba',
    'sc', 'htn', 'dm', 'cad', 'appet', 'pe', 'ane'
])
df


df.dtypes
#TODO: Tyypitä jokainen kolumni kuntoon


#'?' and 'None' to 'Not a number'
df = df.replace(['?', 'None'], pd.NA)
df


#Tiputa rivit jossa >=3 NaN ja korjaa indexointi
df = df.dropna(thresh=len(df.columns)-2)
df = df.reset_index(drop=True)
df


# Muutetaan kaikki halutut sarakkeet numerotyypeiksi
numeric_cols = ['age', 'bp', 'sg', 'al', 'su',
                'bgr', 'bu', 'sod', 'pot', 'hemo',
                'pcv', 'wbcc', 'rbcc']

for col in numeric_cols:
    df[col] = pd.to_numeric(df[col], errors='coerce')

# Korvataan NaN arvot sarakkeen keskiarvolla
for col in numeric_cols:
    df[col] = df[col].fillna(df[col].mean()).round(3)

df


#Muutetaan ckd --> a (affected), notckd && no --> c (control)
df['class'] = df['class'].replace({'ckd': 'a', 'notckd': 'c', 'no': 'c'})
df


#Muutetaan hemoglobiini g/dl --> g/l
df['hemo'] = pd.to_numeric(df['hemo'], errors='coerce') * 10
df


#jaetaan kahdeen dataframeen classin perusteella
df_a = df[df['class'] == 'a']
df_c = df[df['class'] == 'c']

#a:n ja c:n rivimäärät
print("Affected (a):", df_a.shape[0], "rows")
print("Control (c):", df_c.shape[0], "rows")



#Näytä dataframe 'a'
df_a


#Näytä dataframe 'c'
df_c


#Näyttää dataframe "a" jokaisen sarakkeen perusstatistiikat
df_a.describe()


#Näyttää dataframe "c" jokaisen sarakkeen perusstatistiikat
df_c.describe()


#Funktio histogrammin tekemiseen
import matplotlib.pyplot as plt

def plot_data(df):
    numeric_cols = df.select_dtypes(include=['int', 'float']).columns
    n_cols = 3 
    n_rows = (len(numeric_cols) + n_cols - 1) // n_cols  
    plt.figure(figsize=(20, 5 * n_rows))  
    
    for i, col in enumerate(numeric_cols):
        plt.subplot(n_rows, n_cols, i + 1)
        df[col].plot(kind='hist', title=col)
        plt.xlabel(col)
    
    plt.tight_layout()
    plt.show()



# Dataframe "a" histogrammi
plot_data(df_a)


# Dataframe "c" histogrammi
plot_data(df_c)


# Funktio correlaatio matriksin tekoon ja heatmap

import matplotlib.pyplot as plt

def plot_correlation_matrix_matplotlib(df, title):
    numeric_cols = df.select_dtypes(include=['int', 'float']).columns
    corr = df[numeric_cols].corr()
    print(f"Correlation matrix for {title}:\n", corr)
    
    plt.figure(figsize=(10, 10))
    plt.imshow(corr, cmap='coolwarm', interpolation='none')
    plt.colorbar()
    plt.xticks(range(len(corr)), corr.columns, rotation=90)
    plt.yticks(range(len(corr)), corr.columns)
    plt.title(f'Correlation matrix heatmap for {title}')
    plt.show()


# Dataframe "a" correlation matrix ja heatmap
plot_correlation_matrix_matplotlib(df_a, "Dataframe (a)")


# Dataframe "c" correlation matrix ja heatmap
plot_correlation_matrix_matplotlib(df_c, "Dataframe (c)")



