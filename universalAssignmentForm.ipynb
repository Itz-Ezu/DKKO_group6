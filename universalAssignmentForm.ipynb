{
 "cells": [
  {
   "metadata": {},
   "cell_type": "markdown",
   "source": [
    "# Assignment (real project name to be here)\n",
    "\n",
    "## Business understanding\n",
    "\n",
    "Define business problem that needs to be solved.\n",
    "- What is the goal of the analysis?\n",
    "- What are the requirements and constraints?\n",
    "- What is the expected outcome?"
   ],
   "id": "d2966e82c09c9183"
  },
  {
   "metadata": {
    "ExecuteTime": {
     "end_time": "2025-08-30T15:27:58.925622Z",
     "start_time": "2025-08-30T15:27:58.923528Z"
    }
   },
   "cell_type": "code",
   "source": "# hello world",
   "id": "c4d460ea3cb7380e",
   "outputs": [],
   "execution_count": 2
  },
  {
   "metadata": {},
   "cell_type": "markdown",
   "source": [
    "## Data understanding\n",
    "\n",
    "collect and explore the data.\n",
    "- What data is available? What are the characteristics of the data (variable types, value distributions etc.)?\n",
    "- Are there any quality issues with the data (missing values, outliers, nonsensical values)?"
   ],
   "id": "def2b411dd31d480"
  },
  {
   "metadata": {
    "ExecuteTime": {
     "end_time": "2025-08-30T15:27:58.973124Z",
     "start_time": "2025-08-30T15:27:58.971217Z"
    }
   },
   "cell_type": "code",
   "source": "# hello world",
   "id": "5b45f04d0416bc1f",
   "outputs": [],
   "execution_count": 3
  },
  {
   "metadata": {},
   "cell_type": "markdown",
   "source": [
    "## Data preparation\n",
    "\n",
    "data preprocessing\n",
    "- cleaning the data\n",
    "- transforming the data\n",
    "- selecting the relevant features"
   ],
   "id": "a181f66c0277a091"
  },
  {
   "metadata": {
    "ExecuteTime": {
     "end_time": "2025-08-30T15:28:01.087311Z",
     "start_time": "2025-08-30T15:27:58.992997Z"
    }
   },
   "cell_type": "code",
   "source": "# hello world",
   "id": "f62843a809b96cc",
   "outputs": [],
   "execution_count": 4
  },
  {
   "metadata": {},
   "cell_type": "markdown",
   "source": [
    "## Modeling\n",
    "\n",
    "choose a machine learning method and train the model (+ model validation)\n",
    "- which method was used?\n",
    "- which parameters were used?\n",
    "- what was the performance of the model?"
   ],
   "id": "a0bc4d25f361d253"
  },
  {
   "metadata": {
    "ExecuteTime": {
     "end_time": "2025-08-30T15:28:01.135112Z",
     "start_time": "2025-08-30T15:28:01.133213Z"
    }
   },
   "cell_type": "code",
   "source": "# hello world",
   "id": "71ce138fe8099aae",
   "outputs": [],
   "execution_count": 7
  },
  {
   "metadata": {},
   "cell_type": "markdown",
   "source": [
    "## Evaluation\n",
    "\n",
    "evaluate the model\n",
    "- How well does the model perform?\n",
    "- Does it meet the business requirements?"
   ],
   "id": "c7a667a15cc1e506"
  },
  {
   "metadata": {
    "ExecuteTime": {
     "end_time": "2025-08-30T15:28:01.154959Z",
     "start_time": "2025-08-30T15:28:01.152980Z"
    }
   },
   "cell_type": "code",
   "source": "# hell world",
   "id": "ac814f5d4cff5efc",
   "outputs": [],
   "execution_count": 8
  },
  {
   "metadata": {},
   "cell_type": "markdown",
   "source": [
    "## Deployment\n",
    "\n",
    "johtopaatos / creating a recommendation of how to use the model in practice, or what to do next\n",
    "- How will the model be used in practice?\n",
    "- How will the results be communicated?"
   ],
   "id": "78f5929792c501d8"
  },
  {
   "metadata": {
    "ExecuteTime": {
     "end_time": "2025-08-30T15:28:01.173286Z",
     "start_time": "2025-08-30T15:28:01.171264Z"
    }
   },
   "cell_type": "code",
   "source": "# hello world",
   "id": "13be5d0c7da83b07",
   "outputs": [],
   "execution_count": 9
  },
  {
   "metadata": {},
   "cell_type": "markdown",
   "source": [
    "### Reflection\n",
    "\n",
    "#### Ai Usage\n",
    "- for research\n",
    "\n",
    "#### Team contribution\n",
    "- who did what\n",
    "\n",
    "#### Sources\n",
    "- links & descriptions"
   ],
   "id": "54766e56a25030e0"
  }
 ],
 "metadata": {
  "kernelspec": {
   "display_name": "Python 3",
   "language": "python",
   "name": "python3"
  },
  "language_info": {
   "codemirror_mode": {
    "name": "ipython",
    "version": 2
   },
   "file_extension": ".py",
   "mimetype": "text/x-python",
   "name": "python",
   "nbconvert_exporter": "python",
   "pygments_lexer": "ipython2",
   "version": "2.7.6"
  }
 },
 "nbformat": 4,
 "nbformat_minor": 5
}
