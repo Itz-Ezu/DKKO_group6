{
 "cells": [
  {
   "metadata": {},
   "cell_type": "markdown",
   "source": [
    "# Hot Coffe Mod\n",
    "\n",
    "## Business understanding\n",
    "\n",
    "As programming students, our reliance on coffee is a well-known stereotype, especially during intense periods like exam weeks. This project stems from a personal and practical interest in understanding the real-world health implications of this habit. The primary objective is to analyze and model the impact of coffee consumption on key health and wellness indicators using the provided dataset. Rather than stopping at simple correlations, our goal is to determine whether coffee intake is a significant predictive factor for specific health outcomes, especially when compared to other lifestyle choices.\n",
    "\n",
    "### Primary Goals\n",
    "\n",
    "Our primary goal is to build a predictive model that can identify a caffeine threshold for negative health effects and determine its significance relative to other lifestyle factors.\n",
    "\n",
    "The project will be successful if we can develop a machine learning model that accurately predicts a health outcome (like `Stress_Level` or `Sleep_Quality`) based on an individual's coffee consumption and other personal data.\n",
    "\n",
    "1. **Determine a Caffeine Threshold**: Can we identify a daily `Caffeine_mg` threshold above which the probability of 'Poor' `Sleep_Quality` or 'High' `Stress_Level` significantly increases, holding other factors constant? **Logistic Regression?**\n",
    "\n",
    "2. **Identify Key Health Predictors**: Which lifestyle habits— `Coffee_Intake`, `Alcohol_Consumption`, `Smoking`, or `Physical_Activity_Hours` —are the most significant predictors of `Health_Issues`? We will build a comprehensive model to predict the severity of these issues (`None`, `Mild`, `Moderate`, `Severe`) using a combination of all lifestyle factors. **Random Forests?**\n",
    "\n",
    "### Secondary Goal\n",
    "\n",
    "Our secondary goal is to investigate if the health impacts of coffee are particularly pronounced for our demographic. Specifically, we want to see if the problem will become worse for us after landing for an 'Office' job.\n",
    "\n",
    "- **Predicting Stress by Occupation**: Can we accurately predict a person's `Stress_Level` based on their daily `Caffeine_mg`, `Sleep_Hours`, and `Occupation`? **Random Forests?**\n"
   ],
   "id": "d2966e82c09c9183"
  },
  {
   "metadata": {
    "ExecuteTime": {
     "end_time": "2025-10-02T15:33:10.861603Z",
     "start_time": "2025-10-02T15:33:10.855693Z"
    }
   },
   "cell_type": "code",
   "source": [
    "import pandas as pd\n",
    "import numpy as np\n",
    "import matplotlib.pyplot as plt\n",
    "import seaborn as sns\n",
    "from sklearn.model_selection import train_test_split\n",
    "from sklearn.linear_model import LogisticRegression\n",
    "from sklearn.metrics import accuracy_score, classification_report\n",
    "\n",
    "# Set a nice style for the plots\n",
    "sns.set_theme(style=\"whitegrid\")"
   ],
   "id": "c4d460ea3cb7380e",
   "outputs": [],
   "execution_count": 27
  },
  {
   "metadata": {},
   "cell_type": "markdown",
   "source": [
    "## Data understanding\n",
    "\n",
    "*collect and explore the data.*\n",
    "- *What data is available? What are the characteristics of the data (variable types, value distributions etc.)?*\n",
    "- *Are there any quality issues with the data (missing values, outliers, nonsensical values)?*\n",
    "\n",
    "### Features\n",
    "\n",
    "| Column                    | Type        | Description                                                                 |\n",
    "|---------------------------|-------------|-----------------------------------------------------------------------------|\n",
    "| ID                        | Integer     | Unique record ID (1–10000)                                                 |\n",
    "| Age                       | Integer     | Age of participant (18–80 years)                                           |\n",
    "| Gender                    | Categorical | Male, Female, Other                                                        |\n",
    "| Country                   | Categorical | Country of residence (20 countries)                                        |\n",
    "| Coffee_Intake             | Float       | Daily coffee consumption in cups (0–10)                                    |\n",
    "| Caffeine_mg               | Float       | Estimated daily caffeine intake in mg (1 cup ≈ 95 mg)                      |\n",
    "| Sleep_Hours               | Float       | Average hours of sleep per night (3–10 hours)                              |\n",
    "| Sleep_Quality             | Categorical | Poor, Fair, Good, Excellent (based on sleep hours)                         |\n",
    "| BMI                       | Float       | Body Mass Index (15–40)                                                    |\n",
    "| Heart_Rate                | Integer     | Resting heart rate (50–110 bpm)                                            |\n",
    "| Stress_Level              | Categorical | Low, Medium, High (based on sleep hours and lifestyle)                     |\n",
    "| Physical_Activity_Hours   | Float       | Weekly physical activity (0–15 hours)                                      |\n",
    "| Health_Issues             | Categorical | None, Mild, Moderate, Severe (based on age, BMI, and sleep)                |\n",
    "| Occupation                | Categorical | Office, Healthcare, Student, Service, Other                                |\n",
    "| Smoking                   | Boolean     | 0 = No, 1 = Yes                                                            |\n",
    "| Alcohol_Consumption       | Boolean     | 0 = No, 1 = Yes                                                            |\n"
   ],
   "id": "def2b411dd31d480"
  },
  {
   "metadata": {
    "ExecuteTime": {
     "end_time": "2025-10-02T15:33:10.992803Z",
     "start_time": "2025-10-02T15:33:10.917752Z"
    }
   },
   "cell_type": "code",
   "source": [
    "# Load the product group data\n",
    "df = pd.read_csv('./coffee_data/synthetic_coffee_health_10000.csv')\n",
    "\n",
    "# Display the first few rows of the dataframe\n",
    "print(\"\\n--- First 5 rows of the product dataset: ---\\n\")\n",
    "display(df.head(5))\n",
    "\n",
    "\n",
    "# Display the all relevant info in a transposed summary table\n",
    "print(\"\\n--- Product Data Summary Table --- \\n\")\n",
    "\n",
    "# Create a DataFrame from the column names\n",
    "features_summary_df = pd.DataFrame(df.columns, columns=['Feature'])\n",
    "\n",
    "# Add columns for Data Type, Missing Values, and a list of Unique Values\n",
    "features_summary_df['Data Type'] = df.dtypes.values\n",
    "features_summary_df['Value Count'] = df.count().values\n",
    "features_summary_df['Missing Values'] = df.isnull().sum().values\n",
    "features_summary_df['Unique Values'] = [', '.join(map(str, df[col].unique())) for col in df.columns]\n",
    "\n",
    "# Set the 'Feature' column as the index for cleaner presentation\n",
    "features_summary_df.set_index('Feature', inplace=True)\n",
    "\n",
    "display(features_summary_df)"
   ],
   "id": "5b45f04d0416bc1f",
   "outputs": [
    {
     "name": "stdout",
     "output_type": "stream",
     "text": [
      "\n",
      "--- First 5 rows of the product dataset: ---\n",
      "\n"
     ]
    },
    {
     "data": {
      "text/plain": [
       "   ID  Age  Gender  Country  Coffee_Intake  Caffeine_mg  Sleep_Hours  \\\n",
       "0   1   40    Male  Germany            3.5        328.1          7.5   \n",
       "1   2   33    Male  Germany            1.0         94.1          6.2   \n",
       "2   3   42    Male   Brazil            5.3        503.7          5.9   \n",
       "3   4   53    Male  Germany            2.6        249.2          7.3   \n",
       "4   5   32  Female    Spain            3.1        298.0          5.3   \n",
       "\n",
       "  Sleep_Quality   BMI  Heart_Rate Stress_Level  Physical_Activity_Hours  \\\n",
       "0          Good  24.9          78          Low                     14.5   \n",
       "1          Good  20.0          67          Low                     11.0   \n",
       "2          Fair  22.7          59       Medium                     11.2   \n",
       "3          Good  24.7          71          Low                      6.6   \n",
       "4          Fair  24.1          76       Medium                      8.5   \n",
       "\n",
       "  Health_Issues Occupation  Smoking  Alcohol_Consumption  \n",
       "0           NaN      Other        0                    0  \n",
       "1           NaN    Service        0                    0  \n",
       "2          Mild     Office        0                    0  \n",
       "3          Mild      Other        0                    0  \n",
       "4          Mild    Student        0                    1  "
      ],
      "text/html": [
       "<div>\n",
       "<style scoped>\n",
       "    .dataframe tbody tr th:only-of-type {\n",
       "        vertical-align: middle;\n",
       "    }\n",
       "\n",
       "    .dataframe tbody tr th {\n",
       "        vertical-align: top;\n",
       "    }\n",
       "\n",
       "    .dataframe thead th {\n",
       "        text-align: right;\n",
       "    }\n",
       "</style>\n",
       "<table border=\"1\" class=\"dataframe\">\n",
       "  <thead>\n",
       "    <tr style=\"text-align: right;\">\n",
       "      <th></th>\n",
       "      <th>ID</th>\n",
       "      <th>Age</th>\n",
       "      <th>Gender</th>\n",
       "      <th>Country</th>\n",
       "      <th>Coffee_Intake</th>\n",
       "      <th>Caffeine_mg</th>\n",
       "      <th>Sleep_Hours</th>\n",
       "      <th>Sleep_Quality</th>\n",
       "      <th>BMI</th>\n",
       "      <th>Heart_Rate</th>\n",
       "      <th>Stress_Level</th>\n",
       "      <th>Physical_Activity_Hours</th>\n",
       "      <th>Health_Issues</th>\n",
       "      <th>Occupation</th>\n",
       "      <th>Smoking</th>\n",
       "      <th>Alcohol_Consumption</th>\n",
       "    </tr>\n",
       "  </thead>\n",
       "  <tbody>\n",
       "    <tr>\n",
       "      <th>0</th>\n",
       "      <td>1</td>\n",
       "      <td>40</td>\n",
       "      <td>Male</td>\n",
       "      <td>Germany</td>\n",
       "      <td>3.5</td>\n",
       "      <td>328.1</td>\n",
       "      <td>7.5</td>\n",
       "      <td>Good</td>\n",
       "      <td>24.9</td>\n",
       "      <td>78</td>\n",
       "      <td>Low</td>\n",
       "      <td>14.5</td>\n",
       "      <td>NaN</td>\n",
       "      <td>Other</td>\n",
       "      <td>0</td>\n",
       "      <td>0</td>\n",
       "    </tr>\n",
       "    <tr>\n",
       "      <th>1</th>\n",
       "      <td>2</td>\n",
       "      <td>33</td>\n",
       "      <td>Male</td>\n",
       "      <td>Germany</td>\n",
       "      <td>1.0</td>\n",
       "      <td>94.1</td>\n",
       "      <td>6.2</td>\n",
       "      <td>Good</td>\n",
       "      <td>20.0</td>\n",
       "      <td>67</td>\n",
       "      <td>Low</td>\n",
       "      <td>11.0</td>\n",
       "      <td>NaN</td>\n",
       "      <td>Service</td>\n",
       "      <td>0</td>\n",
       "      <td>0</td>\n",
       "    </tr>\n",
       "    <tr>\n",
       "      <th>2</th>\n",
       "      <td>3</td>\n",
       "      <td>42</td>\n",
       "      <td>Male</td>\n",
       "      <td>Brazil</td>\n",
       "      <td>5.3</td>\n",
       "      <td>503.7</td>\n",
       "      <td>5.9</td>\n",
       "      <td>Fair</td>\n",
       "      <td>22.7</td>\n",
       "      <td>59</td>\n",
       "      <td>Medium</td>\n",
       "      <td>11.2</td>\n",
       "      <td>Mild</td>\n",
       "      <td>Office</td>\n",
       "      <td>0</td>\n",
       "      <td>0</td>\n",
       "    </tr>\n",
       "    <tr>\n",
       "      <th>3</th>\n",
       "      <td>4</td>\n",
       "      <td>53</td>\n",
       "      <td>Male</td>\n",
       "      <td>Germany</td>\n",
       "      <td>2.6</td>\n",
       "      <td>249.2</td>\n",
       "      <td>7.3</td>\n",
       "      <td>Good</td>\n",
       "      <td>24.7</td>\n",
       "      <td>71</td>\n",
       "      <td>Low</td>\n",
       "      <td>6.6</td>\n",
       "      <td>Mild</td>\n",
       "      <td>Other</td>\n",
       "      <td>0</td>\n",
       "      <td>0</td>\n",
       "    </tr>\n",
       "    <tr>\n",
       "      <th>4</th>\n",
       "      <td>5</td>\n",
       "      <td>32</td>\n",
       "      <td>Female</td>\n",
       "      <td>Spain</td>\n",
       "      <td>3.1</td>\n",
       "      <td>298.0</td>\n",
       "      <td>5.3</td>\n",
       "      <td>Fair</td>\n",
       "      <td>24.1</td>\n",
       "      <td>76</td>\n",
       "      <td>Medium</td>\n",
       "      <td>8.5</td>\n",
       "      <td>Mild</td>\n",
       "      <td>Student</td>\n",
       "      <td>0</td>\n",
       "      <td>1</td>\n",
       "    </tr>\n",
       "  </tbody>\n",
       "</table>\n",
       "</div>"
      ]
     },
     "metadata": {},
     "output_type": "display_data"
    },
    {
     "name": "stdout",
     "output_type": "stream",
     "text": [
      "\n",
      "--- Product Data Summary Table --- \n",
      "\n"
     ]
    },
    {
     "data": {
      "text/plain": [
       "                        Data Type  Value Count  Missing Values  \\\n",
       "Feature                                                          \n",
       "ID                          int64        10000               0   \n",
       "Age                         int64        10000               0   \n",
       "Gender                     object        10000               0   \n",
       "Country                    object        10000               0   \n",
       "Coffee_Intake             float64        10000               0   \n",
       "Caffeine_mg               float64        10000               0   \n",
       "Sleep_Hours               float64        10000               0   \n",
       "Sleep_Quality              object        10000               0   \n",
       "BMI                       float64        10000               0   \n",
       "Heart_Rate                  int64        10000               0   \n",
       "Stress_Level               object        10000               0   \n",
       "Physical_Activity_Hours   float64        10000               0   \n",
       "Health_Issues              object         4059            5941   \n",
       "Occupation                 object        10000               0   \n",
       "Smoking                     int64        10000               0   \n",
       "Alcohol_Consumption         int64        10000               0   \n",
       "\n",
       "                                                             Unique Values  \n",
       "Feature                                                                     \n",
       "ID                       1, 2, 3, 4, 5, 6, 7, 8, 9, 10, 11, 12, 13, 14,...  \n",
       "Age                      40, 33, 42, 53, 32, 44, 29, 41, 37, 18, 28, 22...  \n",
       "Gender                                                 Male, Female, Other  \n",
       "Country                  Germany, Brazil, Spain, Mexico, France, Canada...  \n",
       "Coffee_Intake            3.5, 1.0, 5.3, 2.6, 3.1, 3.4, 2.7, 4.5, 1.7, 4...  \n",
       "Caffeine_mg              328.1, 94.1, 503.7, 249.2, 298.0, 326.4, 252.1...  \n",
       "Sleep_Hours              7.5, 6.2, 5.9, 7.3, 5.3, 6.4, 7.8, 5.5, 7.1, 8...  \n",
       "Sleep_Quality                                  Good, Fair, Excellent, Poor  \n",
       "BMI                      24.9, 20.0, 22.7, 24.7, 24.1, 27.0, 24.3, 15.8...  \n",
       "Heart_Rate               78, 67, 59, 71, 76, 82, 58, 62, 60, 69, 66, 80...  \n",
       "Stress_Level                                             Low, Medium, High  \n",
       "Physical_Activity_Hours  14.5, 11.0, 11.2, 6.6, 8.5, 8.8, 1.0, 0.7, 2.2...  \n",
       "Health_Issues                                  nan, Mild, Moderate, Severe  \n",
       "Occupation                     Other, Service, Office, Student, Healthcare  \n",
       "Smoking                                                               0, 1  \n",
       "Alcohol_Consumption                                                   0, 1  "
      ],
      "text/html": [
       "<div>\n",
       "<style scoped>\n",
       "    .dataframe tbody tr th:only-of-type {\n",
       "        vertical-align: middle;\n",
       "    }\n",
       "\n",
       "    .dataframe tbody tr th {\n",
       "        vertical-align: top;\n",
       "    }\n",
       "\n",
       "    .dataframe thead th {\n",
       "        text-align: right;\n",
       "    }\n",
       "</style>\n",
       "<table border=\"1\" class=\"dataframe\">\n",
       "  <thead>\n",
       "    <tr style=\"text-align: right;\">\n",
       "      <th></th>\n",
       "      <th>Data Type</th>\n",
       "      <th>Value Count</th>\n",
       "      <th>Missing Values</th>\n",
       "      <th>Unique Values</th>\n",
       "    </tr>\n",
       "    <tr>\n",
       "      <th>Feature</th>\n",
       "      <th></th>\n",
       "      <th></th>\n",
       "      <th></th>\n",
       "      <th></th>\n",
       "    </tr>\n",
       "  </thead>\n",
       "  <tbody>\n",
       "    <tr>\n",
       "      <th>ID</th>\n",
       "      <td>int64</td>\n",
       "      <td>10000</td>\n",
       "      <td>0</td>\n",
       "      <td>1, 2, 3, 4, 5, 6, 7, 8, 9, 10, 11, 12, 13, 14,...</td>\n",
       "    </tr>\n",
       "    <tr>\n",
       "      <th>Age</th>\n",
       "      <td>int64</td>\n",
       "      <td>10000</td>\n",
       "      <td>0</td>\n",
       "      <td>40, 33, 42, 53, 32, 44, 29, 41, 37, 18, 28, 22...</td>\n",
       "    </tr>\n",
       "    <tr>\n",
       "      <th>Gender</th>\n",
       "      <td>object</td>\n",
       "      <td>10000</td>\n",
       "      <td>0</td>\n",
       "      <td>Male, Female, Other</td>\n",
       "    </tr>\n",
       "    <tr>\n",
       "      <th>Country</th>\n",
       "      <td>object</td>\n",
       "      <td>10000</td>\n",
       "      <td>0</td>\n",
       "      <td>Germany, Brazil, Spain, Mexico, France, Canada...</td>\n",
       "    </tr>\n",
       "    <tr>\n",
       "      <th>Coffee_Intake</th>\n",
       "      <td>float64</td>\n",
       "      <td>10000</td>\n",
       "      <td>0</td>\n",
       "      <td>3.5, 1.0, 5.3, 2.6, 3.1, 3.4, 2.7, 4.5, 1.7, 4...</td>\n",
       "    </tr>\n",
       "    <tr>\n",
       "      <th>Caffeine_mg</th>\n",
       "      <td>float64</td>\n",
       "      <td>10000</td>\n",
       "      <td>0</td>\n",
       "      <td>328.1, 94.1, 503.7, 249.2, 298.0, 326.4, 252.1...</td>\n",
       "    </tr>\n",
       "    <tr>\n",
       "      <th>Sleep_Hours</th>\n",
       "      <td>float64</td>\n",
       "      <td>10000</td>\n",
       "      <td>0</td>\n",
       "      <td>7.5, 6.2, 5.9, 7.3, 5.3, 6.4, 7.8, 5.5, 7.1, 8...</td>\n",
       "    </tr>\n",
       "    <tr>\n",
       "      <th>Sleep_Quality</th>\n",
       "      <td>object</td>\n",
       "      <td>10000</td>\n",
       "      <td>0</td>\n",
       "      <td>Good, Fair, Excellent, Poor</td>\n",
       "    </tr>\n",
       "    <tr>\n",
       "      <th>BMI</th>\n",
       "      <td>float64</td>\n",
       "      <td>10000</td>\n",
       "      <td>0</td>\n",
       "      <td>24.9, 20.0, 22.7, 24.7, 24.1, 27.0, 24.3, 15.8...</td>\n",
       "    </tr>\n",
       "    <tr>\n",
       "      <th>Heart_Rate</th>\n",
       "      <td>int64</td>\n",
       "      <td>10000</td>\n",
       "      <td>0</td>\n",
       "      <td>78, 67, 59, 71, 76, 82, 58, 62, 60, 69, 66, 80...</td>\n",
       "    </tr>\n",
       "    <tr>\n",
       "      <th>Stress_Level</th>\n",
       "      <td>object</td>\n",
       "      <td>10000</td>\n",
       "      <td>0</td>\n",
       "      <td>Low, Medium, High</td>\n",
       "    </tr>\n",
       "    <tr>\n",
       "      <th>Physical_Activity_Hours</th>\n",
       "      <td>float64</td>\n",
       "      <td>10000</td>\n",
       "      <td>0</td>\n",
       "      <td>14.5, 11.0, 11.2, 6.6, 8.5, 8.8, 1.0, 0.7, 2.2...</td>\n",
       "    </tr>\n",
       "    <tr>\n",
       "      <th>Health_Issues</th>\n",
       "      <td>object</td>\n",
       "      <td>4059</td>\n",
       "      <td>5941</td>\n",
       "      <td>nan, Mild, Moderate, Severe</td>\n",
       "    </tr>\n",
       "    <tr>\n",
       "      <th>Occupation</th>\n",
       "      <td>object</td>\n",
       "      <td>10000</td>\n",
       "      <td>0</td>\n",
       "      <td>Other, Service, Office, Student, Healthcare</td>\n",
       "    </tr>\n",
       "    <tr>\n",
       "      <th>Smoking</th>\n",
       "      <td>int64</td>\n",
       "      <td>10000</td>\n",
       "      <td>0</td>\n",
       "      <td>0, 1</td>\n",
       "    </tr>\n",
       "    <tr>\n",
       "      <th>Alcohol_Consumption</th>\n",
       "      <td>int64</td>\n",
       "      <td>10000</td>\n",
       "      <td>0</td>\n",
       "      <td>0, 1</td>\n",
       "    </tr>\n",
       "  </tbody>\n",
       "</table>\n",
       "</div>"
      ]
     },
     "metadata": {},
     "output_type": "display_data"
    }
   ],
   "execution_count": 28
  },
  {
   "metadata": {},
   "cell_type": "markdown",
   "source": [
    "## Data preparation\n",
    "\n",
    "*data preprocessing*\n",
    "- *cleaning the data*\n",
    "- *transforming the data*\n",
    "- *selecting the relevant features*\n",
    "\n",
    "\n",
    "We might need to convert values to numerical - and adding new columns that will reflect same data but with numbers"
   ],
   "id": "a181f66c0277a091"
  },
  {
   "metadata": {
    "ExecuteTime": {
     "end_time": "2025-10-02T15:33:11.112316Z",
     "start_time": "2025-10-02T15:33:11.100307Z"
    }
   },
   "cell_type": "code",
   "source": [
    "# Create mapping dictionaries\n",
    "stress_map = {'Low': 0, 'Medium': 1, 'High': 2}\n",
    "sleep_map = {'Excellent': 0, 'Good': 1, 'Fair': 2, 'Poor': 3}\n",
    "health_map = {'None': 0, 'Mild': 1, 'Moderate': 2, 'Severe': 3}\n",
    "\n",
    "\n",
    "# Apply the mapping to create new numerical columns\n",
    "df['Stress_Num'] = df['Stress_Level'].map(stress_map)\n",
    "df['Sleep_Num'] = df['Sleep_Quality'].map(sleep_map)\n",
    "df['Health_Num'] = df['Health_Issues'].map(health_map)"
   ],
   "id": "82ff4b49745e5d66",
   "outputs": [],
   "execution_count": 29
  },
  {
   "metadata": {},
   "cell_type": "markdown",
   "source": "We are taking worth scenario and treat it as \"bad life quality achievement\" and mark it as 1 for logic regression to work with.",
   "id": "887ea49c48095d3a"
  },
  {
   "metadata": {
    "ExecuteTime": {
     "end_time": "2025-10-02T15:33:11.399836Z",
     "start_time": "2025-10-02T15:33:11.381077Z"
    }
   },
   "cell_type": "code",
   "source": [
    "# --- Create three distinct binary targets ---\n",
    "# Target 1: Is the person experiencing high stress?\n",
    "df['Is_High_Stress'] = (df['Stress_Num'] >= 1).astype(int) # highest alternative 2\n",
    "# Target 2: Is the person experiencing poor sleep?\n",
    "df['Is_Poor_Sleep'] = (df['Sleep_Num'] >= 2).astype(int) # highest alternative 3\n",
    "# Target 3: Does the person have any health issues ?\n",
    "df['Has_Health_Issues'] = (df['Health_Num'] >= 1).astype(int) # highest alternative 2-3, two has been used on initial testings\n",
    "\n",
    "print(\"Data Preparation Complete. New target columns created.\")\n",
    "df[['Stress_Level', 'Stress_Num', 'Is_High_Stress', 'Sleep_Quality', 'Sleep_Num',  'Is_Poor_Sleep', 'Health_Issues', 'Health_Num', 'Has_Health_Issues']].head()"
   ],
   "id": "3f7fc6446135c071",
   "outputs": [
    {
     "name": "stdout",
     "output_type": "stream",
     "text": [
      "Data Preparation Complete. New target columns created.\n"
     ]
    },
    {
     "data": {
      "text/plain": [
       "  Stress_Level  Stress_Num  Is_High_Stress Sleep_Quality  Sleep_Num  \\\n",
       "0          Low           0               0          Good          1   \n",
       "1          Low           0               0          Good          1   \n",
       "2       Medium           1               1          Fair          2   \n",
       "3          Low           0               0          Good          1   \n",
       "4       Medium           1               1          Fair          2   \n",
       "\n",
       "   Is_Poor_Sleep Health_Issues  Health_Num  Has_Health_Issues  \n",
       "0              0           NaN         NaN                  0  \n",
       "1              0           NaN         NaN                  0  \n",
       "2              1          Mild         1.0                  1  \n",
       "3              0          Mild         1.0                  1  \n",
       "4              1          Mild         1.0                  1  "
      ],
      "text/html": [
       "<div>\n",
       "<style scoped>\n",
       "    .dataframe tbody tr th:only-of-type {\n",
       "        vertical-align: middle;\n",
       "    }\n",
       "\n",
       "    .dataframe tbody tr th {\n",
       "        vertical-align: top;\n",
       "    }\n",
       "\n",
       "    .dataframe thead th {\n",
       "        text-align: right;\n",
       "    }\n",
       "</style>\n",
       "<table border=\"1\" class=\"dataframe\">\n",
       "  <thead>\n",
       "    <tr style=\"text-align: right;\">\n",
       "      <th></th>\n",
       "      <th>Stress_Level</th>\n",
       "      <th>Stress_Num</th>\n",
       "      <th>Is_High_Stress</th>\n",
       "      <th>Sleep_Quality</th>\n",
       "      <th>Sleep_Num</th>\n",
       "      <th>Is_Poor_Sleep</th>\n",
       "      <th>Health_Issues</th>\n",
       "      <th>Health_Num</th>\n",
       "      <th>Has_Health_Issues</th>\n",
       "    </tr>\n",
       "  </thead>\n",
       "  <tbody>\n",
       "    <tr>\n",
       "      <th>0</th>\n",
       "      <td>Low</td>\n",
       "      <td>0</td>\n",
       "      <td>0</td>\n",
       "      <td>Good</td>\n",
       "      <td>1</td>\n",
       "      <td>0</td>\n",
       "      <td>NaN</td>\n",
       "      <td>NaN</td>\n",
       "      <td>0</td>\n",
       "    </tr>\n",
       "    <tr>\n",
       "      <th>1</th>\n",
       "      <td>Low</td>\n",
       "      <td>0</td>\n",
       "      <td>0</td>\n",
       "      <td>Good</td>\n",
       "      <td>1</td>\n",
       "      <td>0</td>\n",
       "      <td>NaN</td>\n",
       "      <td>NaN</td>\n",
       "      <td>0</td>\n",
       "    </tr>\n",
       "    <tr>\n",
       "      <th>2</th>\n",
       "      <td>Medium</td>\n",
       "      <td>1</td>\n",
       "      <td>1</td>\n",
       "      <td>Fair</td>\n",
       "      <td>2</td>\n",
       "      <td>1</td>\n",
       "      <td>Mild</td>\n",
       "      <td>1.0</td>\n",
       "      <td>1</td>\n",
       "    </tr>\n",
       "    <tr>\n",
       "      <th>3</th>\n",
       "      <td>Low</td>\n",
       "      <td>0</td>\n",
       "      <td>0</td>\n",
       "      <td>Good</td>\n",
       "      <td>1</td>\n",
       "      <td>0</td>\n",
       "      <td>Mild</td>\n",
       "      <td>1.0</td>\n",
       "      <td>1</td>\n",
       "    </tr>\n",
       "    <tr>\n",
       "      <th>4</th>\n",
       "      <td>Medium</td>\n",
       "      <td>1</td>\n",
       "      <td>1</td>\n",
       "      <td>Fair</td>\n",
       "      <td>2</td>\n",
       "      <td>1</td>\n",
       "      <td>Mild</td>\n",
       "      <td>1.0</td>\n",
       "      <td>1</td>\n",
       "    </tr>\n",
       "  </tbody>\n",
       "</table>\n",
       "</div>"
      ]
     },
     "execution_count": 30,
     "metadata": {},
     "output_type": "execute_result"
    }
   ],
   "execution_count": 30
  },
  {
   "metadata": {
    "ExecuteTime": {
     "end_time": "2025-10-02T15:33:11.684086Z",
     "start_time": "2025-10-02T15:33:11.679832Z"
    }
   },
   "cell_type": "code",
   "source": "# hello",
   "id": "2c38ded09e8c115f",
   "outputs": [],
   "execution_count": 31
  },
  {
   "metadata": {
    "ExecuteTime": {
     "end_time": "2025-10-02T15:33:11.802952Z",
     "start_time": "2025-10-02T15:33:11.799662Z"
    }
   },
   "cell_type": "code",
   "source": "# world",
   "id": "ab34687317f2ee94",
   "outputs": [],
   "execution_count": 32
  },
  {
   "metadata": {
    "ExecuteTime": {
     "end_time": "2025-10-02T15:33:11.993860Z",
     "start_time": "2025-10-02T15:33:11.989813Z"
    }
   },
   "cell_type": "code",
   "source": "# :)",
   "id": "74b6aaac359e9db5",
   "outputs": [],
   "execution_count": 33
  },
  {
   "metadata": {},
   "cell_type": "markdown",
   "source": [
    "## Modeling\n",
    "\n",
    "*choose a machine learning method and train the model (+ model validation)*\n",
    "- *which method was used?*\n",
    "- *which parameters were used?*\n",
    "- *what was the performance of the model?*\n",
    "\n",
    "\n",
    "## Amount of Caffeine damaging the quality of life\n",
    "\n",
    "We are creating three models for Sleep, Stress and Health overall to compare them and see the result\n",
    "\n",
    "### Predicting High Stress\n",
    "\n",
    "The goal is to predict the probability of having `Is_High_Stress` based solely on `Caffeine_mg`."
   ],
   "id": "a0bc4d25f361d253"
  },
  {
   "metadata": {
    "ExecuteTime": {
     "end_time": "2025-10-02T15:33:12.108960Z",
     "start_time": "2025-10-02T15:33:12.084162Z"
    }
   },
   "cell_type": "code",
   "source": [
    "# --- Model for Stress ---\n",
    "X = df[['Caffeine_mg']]\n",
    "y_stress = df['Is_High_Stress']\n",
    "\n",
    "# Split data for the stress model\n",
    "X_train_st, X_test_st, y_train_st, y_test_st = train_test_split(X, y_stress, test_size=0.3, random_state=42)\n",
    "\n",
    "# Train the stress model\n",
    "log_reg_stress = LogisticRegression(random_state=42)\n",
    "log_reg_stress.fit(X_train_st, y_train_st)\n",
    "\n",
    "# Generate predictions for plotting\n",
    "caffeine_range = np.linspace(0, df['Caffeine_mg'].max(), 500).reshape(-1, 1)\n",
    "# stress_probs = log_reg_stress.predict_proba(caffeine_range)[:, 1]\n",
    "# Wrap caffeine_range in a DataFrame to match feature names and silence warning\n",
    "caffeine_range_df = pd.DataFrame(caffeine_range, columns=['Caffeine_mg'])\n",
    "stress_probs = log_reg_stress.predict_proba(caffeine_range_df)[:, 1]\n",
    "\n",
    "\n",
    "# --- Find the highest probability and the tipping point for stress ---\n",
    "max_stress_prob = stress_probs.max()\n",
    "print(f\"Maximum predicted probability for High Stress: {max_stress_prob:.2%}\")\n",
    "\n",
    "stress_tipping_point = None\n",
    "try:\n",
    "    tipping_point_index = np.where(stress_probs >= 0.5)[0][0]\n",
    "    stress_tipping_point = caffeine_range[tipping_point_index][0]\n",
    "    print(f\"Tipping point for High Stress: ~{stress_tipping_point:.0f} mg\")\n",
    "except IndexError:\n",
    "    print(\"Tipping point for High Stress was not found (probability never reached 50%).\")"
   ],
   "id": "c3a01f0de0a942be",
   "outputs": [
    {
     "name": "stdout",
     "output_type": "stream",
     "text": [
      "Maximum predicted probability for High Stress: 61.97%\n",
      "Tipping point for High Stress: ~582 mg\n"
     ]
    }
   ],
   "execution_count": 34
  },
  {
   "metadata": {},
   "cell_type": "markdown",
   "source": [
    "### Predicting Poor Sleep\n",
    "\n",
    "We build the second model to predict the probability of `Is_Poor_Sleep` based on `Caffeine_mg`."
   ],
   "id": "e10b75a253dad50f"
  },
  {
   "metadata": {
    "ExecuteTime": {
     "end_time": "2025-10-02T15:33:12.225525Z",
     "start_time": "2025-10-02T15:33:12.195568Z"
    }
   },
   "cell_type": "code",
   "source": [
    "# --- Model for Sleep ---\n",
    "y_sleep = df['Is_Poor_Sleep']\n",
    "\n",
    "# Split data for the sleep model\n",
    "X_train_sl, X_test_sl, y_train_sl, y_test_sl = train_test_split(X, y_sleep, test_size=0.3, random_state=42)\n",
    "\n",
    "# Train the sleep model\n",
    "log_reg_sleep = LogisticRegression(random_state=42)\n",
    "log_reg_sleep.fit(X_train_sl, y_train_sl)\n",
    "\n",
    "# Generate predictions for plotting\n",
    "# sleep_probs = log_reg_sleep.predict_proba(caffeine_range)[:, 1]\n",
    "caffeine_range_df = pd.DataFrame(caffeine_range, columns=['Caffeine_mg'])\n",
    "sleep_probs = log_reg_sleep.predict_proba(caffeine_range_df)[:, 1]\n",
    "\n",
    "\n",
    "# --- Find the highest probability and the tipping point for sleep ---\n",
    "max_sleep_prob = sleep_probs.max()\n",
    "print(f\"Maximum predicted probability for Poor Sleep: {max_sleep_prob:.2%}\")\n",
    "\n",
    "sleep_tipping_point = None\n",
    "try:\n",
    "    tipping_point_index = np.where(sleep_probs >= 0.5)[0][0]\n",
    "    sleep_tipping_point = caffeine_range[tipping_point_index][0]\n",
    "    print(f\"Tipping point for Poor Sleep: ~{sleep_tipping_point:.0f} mg\")\n",
    "except IndexError:\n",
    "    print(\"Tipping point for Poor Sleep was not found (probability never reached 50%).\")"
   ],
   "id": "80a7631faf125c02",
   "outputs": [
    {
     "name": "stdout",
     "output_type": "stream",
     "text": [
      "Maximum predicted probability for Poor Sleep: 61.97%\n",
      "Tipping point for Poor Sleep: ~582 mg\n"
     ]
    }
   ],
   "execution_count": 35
  },
  {
   "metadata": {},
   "cell_type": "markdown",
   "source": [
    "### Predicting Health Issues\n",
    "\n",
    "Finally, we build our third model to predict the probability of having any `Health_Issues` (Mild or worse) based on `Caffeine_mg`."
   ],
   "id": "45af11c52c02ed73"
  },
  {
   "metadata": {
    "ExecuteTime": {
     "end_time": "2025-10-02T15:33:12.262416Z",
     "start_time": "2025-10-02T15:33:12.239897Z"
    }
   },
   "cell_type": "code",
   "source": [
    "# --- Model for Health Issues ---\n",
    "y_health = df['Has_Health_Issues']\n",
    "\n",
    "# Split data for the health model\n",
    "X_train_h, X_test_h, y_train_h, y_test_h = train_test_split(X, y_health, test_size=0.3, random_state=42)\n",
    "\n",
    "# Train the health model\n",
    "log_reg_health = LogisticRegression(random_state=42)\n",
    "log_reg_health.fit(X_train_h, y_train_h)\n",
    "\n",
    "# Generate predictions for plotting\n",
    "# health_probs = log_reg_health.predict_proba(caffeine_range)[:, 1]\n",
    "caffeine_range_df = pd.DataFrame(caffeine_range, columns=['Caffeine_mg'])\n",
    "health_probs = log_reg_health.predict_proba(caffeine_range_df)[:, 1]\n",
    "\n",
    "# --- Find the highest probability and the tipping point for health ---\n",
    "max_health_prob = health_probs.max()\n",
    "print(f\"Maximum predicted probability for Health Issues: {max_health_prob:.2%}\")\n",
    "\n",
    "health_tipping_point = None\n",
    "try:\n",
    "    tipping_point_index = np.where(health_probs >= 0.5)[0][0]\n",
    "    health_tipping_point = caffeine_range[tipping_point_index][0]\n",
    "    print(f\"Tipping point for having Health Issues: ~{health_tipping_point:.0f} mg\")\n",
    "except IndexError:\n",
    "    print(\"Tipping point for Health Issues was not found (probability never reached 50%).\")"
   ],
   "id": "60158a527b3201f0",
   "outputs": [
    {
     "name": "stdout",
     "output_type": "stream",
     "text": [
      "Maximum predicted probability for Health Issues: 64.10%\n",
      "Tipping point for having Health Issues: ~450 mg\n"
     ]
    }
   ],
   "execution_count": 36
  },
  {
   "metadata": {},
   "cell_type": "markdown",
   "source": [
    "### Compare the results\n",
    "\n",
    "By plotting all three probability curves on the same graph, we can visually compare them. The curve that rises fastest or has the lowest tipping point indicates the health aspect that is most sensitive to caffeine."
   ],
   "id": "4245c18d2961df11"
  },
  {
   "metadata": {
    "ExecuteTime": {
     "end_time": "2025-10-02T15:33:12.508819Z",
     "start_time": "2025-10-02T15:33:12.298109Z"
    }
   },
   "cell_type": "code",
   "source": [
    "# --- Plotting All Three Curves for Comparison ---\n",
    "plt.figure(figsize=(12, 8))\n",
    "\n",
    "# Plot for Stress\n",
    "plt.plot(caffeine_range, stress_probs, label='Probability of High Stress', color='red', linewidth=6)\n",
    "# plt.axvline(x=stress_tipping_point, color='orange', linestyle='--', label=f'Stress Tipping Point (~{stress_tipping_point:.0f} mg)')\n",
    "\n",
    "# Plot for Sleep\n",
    "plt.plot(caffeine_range, sleep_probs, label='Probability of Poor Sleep', color='black', linestyle='--', linewidth=2)\n",
    "# plt.axvline(x=sleep_tipping_point, color='purple', linestyle='--', label=f'Sleep Tipping Point (~{sleep_tipping_point:.0f} mg)')\n",
    "\n",
    "# Plot for Health Issues\n",
    "plt.plot(caffeine_range, health_probs, label='Probability of Health Issues', color='green', linewidth=2)\n",
    "# plt.axvline(x=health_tipping_point, color='green', linestyle='--', label=f'Health Issues Tipping Point (~{health_tipping_point:.0f} mg)')\n",
    "\n",
    "\n",
    "# Add reference line and labels\n",
    "plt.axhline(y=0.5, color='grey', linestyle=':', label='50% Probability')\n",
    "plt.title('Caffeine Impact: Stress vs. Sleep vs. Health Issues', fontsize=16)\n",
    "plt.xlabel('Daily Caffeine Intake (mg)', fontsize=12)\n",
    "plt.ylabel('Predicted Probability of Negative Outcome', fontsize=12)\n",
    "plt.legend()\n",
    "plt.grid(True)\n",
    "plt.show()"
   ],
   "id": "2f0750f371d4669f",
   "outputs": [
    {
     "data": {
      "text/plain": [
       "<Figure size 1200x800 with 1 Axes>"
      ],
      "image/png": "[encoded data removed]"
     },
     "metadata": {},
     "output_type": "display_data"
    }
   ],
   "execution_count": 37
  },
  {
   "metadata": {},
   "cell_type": "markdown",
   "source": "So within 10 cups of coffee (or 1-2 energetics) you are somehow safe and there is no strong correlation between coffee and stress level. However, if you already had health issues coffee may make them worth and damage you beyond 50% probability. **Plot dependable on the input values**",
   "id": "312a5154f5519dd3"
  },
  {
   "metadata": {},
   "cell_type": "markdown",
   "source": [
    "## Evaluation\n",
    "\n",
    "*evaluate the model*\n",
    "- *How well does the model perform?*\n",
    "- *Does it meet the business requirements?*\n"
   ],
   "id": "c7a667a15cc1e506"
  },
  {
   "metadata": {
    "ExecuteTime": {
     "end_time": "2025-10-02T15:33:12.545827Z",
     "start_time": "2025-10-02T15:33:12.542833Z"
    }
   },
   "cell_type": "code",
   "source": "# hell world",
   "id": "ac814f5d4cff5efc",
   "outputs": [],
   "execution_count": 38
  },
  {
   "metadata": {},
   "cell_type": "markdown",
   "source": [
    "## Deployment\n",
    "\n",
    "johtopaatos / creating a recommendation of how to use the model in practice, or what to do next\n",
    "- How will the model be used in practice?\n",
    "- How will the results be communicated?"
   ],
   "id": "78f5929792c501d8"
  },
  {
   "metadata": {
    "ExecuteTime": {
     "end_time": "2025-10-02T15:33:12.628322Z",
     "start_time": "2025-10-02T15:33:12.624946Z"
    }
   },
   "cell_type": "code",
   "source": "# hello world",
   "id": "13be5d0c7da83b07",
   "outputs": [],
   "execution_count": 39
  },
  {
   "metadata": {},
   "cell_type": "markdown",
   "source": [
    "### Reflection\n",
    "\n",
    "#### Ai Usage\n",
    "- for research\n",
    "\n",
    "#### Team contribution\n",
    "- who did what\n",
    "\n",
    "#### Sources\n",
    "- links & descriptions"
   ],
   "id": "54766e56a25030e0"
  }
 ],
 "metadata": {
  "kernelspec": {
   "display_name": "Python 3",
   "language": "python",
   "name": "python3"
  },
  "language_info": {
   "codemirror_mode": {
    "name": "ipython",
    "version": 2
   },
   "file_extension": ".py",
   "mimetype": "text/x-python",
   "name": "python",
   "nbconvert_exporter": "python",
   "pygments_lexer": "ipython2",
   "version": "2.7.6"
  }
 },
 "nbformat": 4,
 "nbformat_minor": 5
}
