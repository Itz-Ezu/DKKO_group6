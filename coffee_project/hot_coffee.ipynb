{
 "cells": [
  {
   "metadata": {},
   "cell_type": "markdown",
   "source": [
    "# Hot Coffe Mod\n",
    "\n",
    "## Business understanding\n",
    "\n",
    "As programming students, our reliance on coffee is a well-known stereotype, especially during intense periods like exam weeks. This project stems from a personal and practical interest in understanding the real-world health implications of this habit. The primary objective is to analyze and model the impact of coffee consumption on key health and wellness indicators using the provided dataset. Rather than stopping at simple correlations, our goal is to determine whether coffee intake is a significant predictive factor for specific health outcomes, especially when compared to other lifestyle choices.\n",
    "\n",
    "### Primary Goals\n",
    "\n",
    "Our primary goal is to build a predictive model that can identify a caffeine threshold for negative health effects and determine its significance relative to other lifestyle factors.\n",
    "\n",
    "The project will be successful if we can develop a machine learning model that accurately predicts a health outcome (like `Stress_Level` or `Sleep_Quality`) based on an individual's coffee consumption and other personal data.\n",
    "\n",
    "1. **Determine a Caffeine Threshold**: Can we identify a daily `Caffeine_mg` threshold above which the probability of 'Poor' `Sleep_Quality` or 'High' `Stress_Level` significantly increases, holding other factors constant? **Logistic Regression?**\n",
    "\n",
    "2. **Identify Key Health Predictors**: Which lifestyle habits— `Coffee_Intake`, `Alcohol_Consumption`, `Smoking`, or `Physical_Activity_Hours` —are the most significant predictors of `Health_Issues`? We will build a comprehensive model to predict the severity of these issues (`None`, `Mild`, `Moderate`, `Severe`) using a combination of all lifestyle factors. **Random Forests?**\n",
    "\n",
    "### Secondary Goal\n",
    "\n",
    "Our secondary goal is to investigate if the health impacts of coffee are particularly pronounced for our demographic. Specifically, we want to see if the problem will become worse for us after landing for an 'Office' job.\n",
    "\n",
    "- **Predicting Stress by Occupation**: Can we accurately predict a person's `Stress_Level` based on their daily `Caffeine_mg`, `Sleep_Hours`, and `Occupation`? **Random Forests?**\n"
   ],
   "id": "d2966e82c09c9183"
  },
  {
   "metadata": {},
   "cell_type": "code",
   "outputs": [],
   "execution_count": null,
   "source": "# hello world",
   "id": "c4d460ea3cb7380e"
  },
  {
   "metadata": {},
   "cell_type": "markdown",
   "source": [
    "## Data understanding\n",
    "\n",
    "collect and explore the data.\n",
    "- What data is available? What are the characteristics of the data (variable types, value distributions etc.)?\n",
    "- Are there any quality issues with the data (missing values, outliers, nonsensical values)?\n",
    "\n",
    "### Features\n",
    "\n",
    "| Column                    | Type        | Description                                                                 |\n",
    "|---------------------------|-------------|-----------------------------------------------------------------------------|\n",
    "| ID                        | Integer     | Unique record ID (1–10000)                                                 |\n",
    "| Age                       | Integer     | Age of participant (18–80 years)                                           |\n",
    "| Gender                    | Categorical | Male, Female, Other                                                        |\n",
    "| Country                   | Categorical | Country of residence (20 countries)                                        |\n",
    "| Coffee_Intake             | Float       | Daily coffee consumption in cups (0–10)                                    |\n",
    "| Caffeine_mg               | Float       | Estimated daily caffeine intake in mg (1 cup ≈ 95 mg)                      |\n",
    "| Sleep_Hours               | Float       | Average hours of sleep per night (3–10 hours)                              |\n",
    "| Sleep_Quality             | Categorical | Poor, Fair, Good, Excellent (based on sleep hours)                         |\n",
    "| BMI                       | Float       | Body Mass Index (15–40)                                                    |\n",
    "| Heart_Rate                | Integer     | Resting heart rate (50–110 bpm)                                            |\n",
    "| Stress_Level              | Categorical | Low, Medium, High (based on sleep hours and lifestyle)                     |\n",
    "| Physical_Activity_Hours   | Float       | Weekly physical activity (0–15 hours)                                      |\n",
    "| Health_Issues             | Categorical | None, Mild, Moderate, Severe (based on age, BMI, and sleep)                |\n",
    "| Occupation                | Categorical | Office, Healthcare, Student, Service, Other                                |\n",
    "| Smoking                   | Boolean     | 0 = No, 1 = Yes                                                            |\n",
    "| Alcohol_Consumption       | Boolean     | 0 = No, 1 = Yes                                                            |\n"
   ],
   "id": "def2b411dd31d480"
  },
  {
   "metadata": {},
   "cell_type": "code",
   "outputs": [],
   "execution_count": null,
   "source": "# hello world",
   "id": "5b45f04d0416bc1f"
  },
  {
   "metadata": {},
   "cell_type": "markdown",
   "source": [
    "## Data preparation\n",
    "\n",
    "data preprocessing\n",
    "- cleaning the data\n",
    "- transforming the data\n",
    "- selecting the relevant features"
   ],
   "id": "a181f66c0277a091"
  },
  {
   "metadata": {},
   "cell_type": "code",
   "outputs": [],
   "execution_count": null,
   "source": "# hello world",
   "id": "74b6aaac359e9db5"
  },
  {
   "metadata": {},
   "cell_type": "markdown",
   "source": [
    "## Modeling\n",
    "\n",
    "choose a machine learning method and train the model (+ model validation)\n",
    "- which method was used?\n",
    "- which parameters were used?\n",
    "- what was the performance of the model?"
   ],
   "id": "a0bc4d25f361d253"
  },
  {
   "metadata": {},
   "cell_type": "code",
   "outputs": [],
   "execution_count": null,
   "source": "# hello world",
   "id": "71ce138fe8099aae"
  },
  {
   "metadata": {},
   "cell_type": "markdown",
   "source": [
    "## Evaluation\n",
    "\n",
    "evaluate the model\n",
    "- How well does the model perform?\n",
    "- Does it meet the business requirements?"
   ],
   "id": "c7a667a15cc1e506"
  },
  {
   "metadata": {},
   "cell_type": "code",
   "outputs": [],
   "execution_count": null,
   "source": "# hell world",
   "id": "ac814f5d4cff5efc"
  },
  {
   "metadata": {},
   "cell_type": "markdown",
   "source": [
    "## Deployment\n",
    "\n",
    "johtopaatos / creating a recommendation of how to use the model in practice, or what to do next\n",
    "- How will the model be used in practice?\n",
    "- How will the results be communicated?"
   ],
   "id": "78f5929792c501d8"
  },
  {
   "metadata": {},
   "cell_type": "code",
   "outputs": [],
   "execution_count": null,
   "source": "# hello world",
   "id": "13be5d0c7da83b07"
  },
  {
   "metadata": {},
   "cell_type": "markdown",
   "source": [
    "### Reflection\n",
    "\n",
    "#### Ai Usage\n",
    "- for research\n",
    "\n",
    "#### Team contribution\n",
    "- who did what\n",
    "\n",
    "#### Sources\n",
    "- links & descriptions"
   ],
   "id": "54766e56a25030e0"
  }
 ],
 "metadata": {
  "kernelspec": {
   "display_name": "Python 3",
   "language": "python",
   "name": "python3"
  },
  "language_info": {
   "codemirror_mode": {
    "name": "ipython",
    "version": 2
   },
   "file_extension": ".py",
   "mimetype": "text/x-python",
   "name": "python",
   "nbconvert_exporter": "python",
   "pygments_lexer": "ipython2",
   "version": "2.7.6"
  }
 },
 "nbformat": 4,
 "nbformat_minor": 5
}
