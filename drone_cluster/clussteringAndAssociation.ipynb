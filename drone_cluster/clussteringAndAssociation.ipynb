{
 "cells": [
  {
   "metadata": {},
   "cell_type": "markdown",
   "source": [
    "# Assignment (real project name to be here)\n",
    "\n",
    "## Business understanding\n",
    "\n",
    "Define business problem that needs to be solved.\n",
    "- What is the goal of the analysis?\n",
    "- What are the requirements and constraints?\n",
    "- What is the expected outcome?\n",
    "\n",
    "\n",
    "\n",
    "\n",
    "This notebook presents a solution to the assignment focusing on optimizing a drone delivery company's operations. The project is divided into two main parts:\n",
    "\n",
    "Clustering: Identifying optimal locations for drone delivery hubs using k-means and hierarchical clustering.\n",
    "\n",
    "Association Rule Mining: Discovering relationships between product groups to enhance sales through targeted recommendations.\n",
    "\n",
    "We will follow the Cross-Industry Standard Process for Data Mining (CRISP-DM) model to structure our analysis.\n",
    "\n",
    "A drone delivery company aims to improve its operational efficiency and increase revenue. The key business objectives are:\n",
    "\n",
    "Minimize Delivery Times & Costs: By strategically placing a set of drone hubs (depots), the company can reduce the average travel distance and time for each delivery, leading to lower fuel/energy costs and faster service. The goal is to find the optimal coordinates for these hubs.\n",
    "\n",
    "Increase Sales Revenue: By understanding customer purchasing patterns, the company can create targeted marketing campaigns, product bundles, and personalized recommendations. The goal is to identify which product groups are frequently bought together to create effective cross-selling strategies."
   ],
   "id": "d2966e82c09c9183"
  },
  {
   "metadata": {
    "ExecuteTime": {
     "end_time": "2025-09-22T10:05:27.365656Z",
     "start_time": "2025-09-22T10:05:27.363614Z"
    }
   },
   "cell_type": "code",
   "source": "# hello world",
   "id": "c4d460ea3cb7380e",
   "outputs": [],
   "execution_count": 14
  },
  {
   "metadata": {},
   "cell_type": "markdown",
   "source": [
    "## Data understanding\n",
    "\n",
    "collect and explore the data.\n",
    "- What data is available? What are the characteristics of the data (variable types, value distributions etc.)?\n",
    "- Are there any quality issues with the data (missing values, outliers, nonsensical values)?"
   ],
   "id": "def2b411dd31d480"
  },
  {
   "metadata": {
    "ExecuteTime": {
     "end_time": "2025-09-22T10:05:27.379833Z",
     "start_time": "2025-09-22T10:05:27.377100Z"
    }
   },
   "cell_type": "code",
   "source": [
    "# Import necessary libraries\n",
    "import pandas as pd\n",
    "import numpy as np\n",
    "import matplotlib.pyplot as plt\n",
    "import seaborn as sns\n",
    "import time\n",
    "\n",
    "from sklearn.cluster import KMeans, AgglomerativeClustering\n",
    "# from mlxtend.frequent_patterns import apriori, association_rules\n",
    "\n",
    "# Set plot style for better visuals\n",
    "sns.set_style('whitegrid')\n",
    "plt.rcParams['figure.figsize'] = (10, 6)"
   ],
   "id": "6ff501be958edfc6",
   "outputs": [],
   "execution_count": 15
  },
  {
   "metadata": {},
   "cell_type": "markdown",
   "source": "Init 1",
   "id": "c4e700d1126cb69b"
  },
  {
   "metadata": {
    "ExecuteTime": {
     "end_time": "2025-09-22T10:05:27.400221Z",
     "start_time": "2025-09-22T10:05:27.387747Z"
    }
   },
   "cell_type": "code",
   "source": [
    "# Load the customer location data\n",
    "locations_df = pd.read_csv('./droneData/drone_cust_locations.csv ')\n",
    "\n",
    "# Display basic information and the first few rows\n",
    "print(\"Customer Locations Data Info:\")\n",
    "locations_df.info()\n",
    "print(\"\\nFirst 5 rows:\")\n",
    "print(locations_df.head())\n",
    "print(\"\\nDescriptive Statistics:\")\n",
    "print(locations_df.describe())"
   ],
   "id": "a5711d7a99d8af50",
   "outputs": [
    {
     "name": "stdout",
     "output_type": "stream",
     "text": [
      "Customer Locations Data Info:\n",
      "<class 'pandas.core.frame.DataFrame'>\n",
      "RangeIndex: 5956 entries, 0 to 5955\n",
      "Data columns (total 1 columns):\n",
      " #   Column        Non-Null Count  Dtype \n",
      "---  ------        --------------  ----- \n",
      " 0   clientid;x;y  5956 non-null   object\n",
      "dtypes: object(1)\n",
      "memory usage: 46.7+ KB\n",
      "\n",
      "First 5 rows:\n",
      "                clientid;x;y\n",
      "0  1;622.7715723;164.8576227\n",
      "1  2;416.3572979;630.1936343\n",
      "2  3;292.7350197;567.3332306\n",
      "3  4;737.2112881;166.2256759\n",
      "4   5;540.4753747;682.912298\n",
      "\n",
      "Descriptive Statistics:\n",
      "                     clientid;x;y\n",
      "count                        5956\n",
      "unique                       5956\n",
      "top     1;622.7715723;164.8576227\n",
      "freq                            1\n"
     ]
    }
   ],
   "execution_count": 16
  },
  {
   "metadata": {},
   "cell_type": "markdown",
   "source": "Init 2",
   "id": "a7487562dbe9ab"
  },
  {
   "metadata": {
    "ExecuteTime": {
     "end_time": "2025-09-22T10:05:27.469755Z",
     "start_time": "2025-09-22T10:05:27.407281Z"
    }
   },
   "cell_type": "code",
   "source": [
    "# Load the product group data\n",
    "products_df = pd.read_csv('./droneData/drone_prod_groups.csv')\n",
    "\n",
    "# Display basic information and the first few rows\n",
    "print(\"\\nProduct Group Data Info:\")\n",
    "products_df.info()\n",
    "print(\"\\nFirst 5 rows:\")\n",
    "print(products_df.head())"
   ],
   "id": "5b45f04d0416bc1f",
   "outputs": [
    {
     "name": "stdout",
     "output_type": "stream",
     "text": [
      "\n",
      "Product Group Data Info:\n",
      "<class 'pandas.core.frame.DataFrame'>\n",
      "RangeIndex: 100000 entries, 0 to 99999\n",
      "Data columns (total 21 columns):\n",
      " #   Column   Non-Null Count   Dtype\n",
      "---  ------   --------------   -----\n",
      " 0   ID       100000 non-null  int64\n",
      " 1   Prod1    100000 non-null  int64\n",
      " 2    Prod2   100000 non-null  int64\n",
      " 3    Prod3   100000 non-null  int64\n",
      " 4    Prod4   100000 non-null  int64\n",
      " 5    Prod5   100000 non-null  int64\n",
      " 6    Prod6   100000 non-null  int64\n",
      " 7    Prod7   100000 non-null  int64\n",
      " 8    Prod8   100000 non-null  int64\n",
      " 9    Prod9   100000 non-null  int64\n",
      " 10   Prod10  100000 non-null  int64\n",
      " 11   Prod11  100000 non-null  int64\n",
      " 12   Prod12  100000 non-null  int64\n",
      " 13   Prod13  100000 non-null  int64\n",
      " 14   Prod14  100000 non-null  int64\n",
      " 15   Prod15  100000 non-null  int64\n",
      " 16   Prod16  100000 non-null  int64\n",
      " 17   Prod17  100000 non-null  int64\n",
      " 18   Prod18  100000 non-null  int64\n",
      " 19   Prod19  100000 non-null  int64\n",
      " 20   Prod20  100000 non-null  int64\n",
      "dtypes: int64(21)\n",
      "memory usage: 16.0 MB\n",
      "\n",
      "First 5 rows:\n",
      "   ID  Prod1   Prod2   Prod3   Prod4   Prod5   Prod6   Prod7   Prod8   Prod9  \\\n",
      "0   1      0       0       0       0       0       0       0       0       1   \n",
      "1   2      0       1       0       0       0       0       0       0       1   \n",
      "2   3      0       0       0       0       0       0       1       0       0   \n",
      "3   4      1       0       0       1       0       0       0       0       0   \n",
      "4   5      0       0       0       0       0       0       0       0       1   \n",
      "\n",
      "   ...   Prod11   Prod12   Prod13   Prod14   Prod15   Prod16   Prod17  \\\n",
      "0  ...        0        0        0        0        1        0        0   \n",
      "1  ...        0        0        0        0        1        1        1   \n",
      "2  ...        0        0        0        0        0        0        0   \n",
      "3  ...        1        0        0        0        0        0        0   \n",
      "4  ...        0        0        0        0        1        0        0   \n",
      "\n",
      "    Prod18   Prod19   Prod20  \n",
      "0        0        0        1  \n",
      "1        1        1        1  \n",
      "2        0        1        1  \n",
      "3        0        1        1  \n",
      "4        0        1        1  \n",
      "\n",
      "[5 rows x 21 columns]\n"
     ]
    }
   ],
   "execution_count": 17
  },
  {
   "metadata": {},
   "cell_type": "markdown",
   "source": [
    "O## Data preparation\n",
    "\n",
    "data preprocessing\n",
    "- cleaning the data\n",
    "- transforming the data\n",
    "- selecting the relevant features"
   ],
   "id": "a181f66c0277a091"
  },
  {
   "metadata": {
    "ExecuteTime": {
     "end_time": "2025-09-22T10:05:27.478287Z",
     "start_time": "2025-09-22T10:05:27.476498Z"
    }
   },
   "cell_type": "code",
   "source": "# hello world",
   "id": "74b6aaac359e9db5",
   "outputs": [],
   "execution_count": 18
  },
  {
   "metadata": {},
   "cell_type": "markdown",
   "source": [
    "## Modeling\n",
    "\n",
    "choose a machine learning method and train the model (+ model validation)\n",
    "- which method was used?\n",
    "- which parameters were used?\n",
    "- what was the performance of the model?"
   ],
   "id": "a0bc4d25f361d253"
  },
  {
   "metadata": {
    "ExecuteTime": {
     "end_time": "2025-09-22T10:05:27.492903Z",
     "start_time": "2025-09-22T10:05:27.490881Z"
    }
   },
   "cell_type": "code",
   "source": "# hello world",
   "id": "71ce138fe8099aae",
   "outputs": [],
   "execution_count": 19
  },
  {
   "metadata": {},
   "cell_type": "markdown",
   "source": [
    "## Evaluation\n",
    "\n",
    "evaluate the model\n",
    "- How well does the model perform?\n",
    "- Does it meet the business requirements?"
   ],
   "id": "c7a667a15cc1e506"
  },
  {
   "metadata": {
    "ExecuteTime": {
     "end_time": "2025-09-22T10:05:27.501355Z",
     "start_time": "2025-09-22T10:05:27.499735Z"
    }
   },
   "cell_type": "code",
   "source": "# hell world",
   "id": "ac814f5d4cff5efc",
   "outputs": [],
   "execution_count": 20
  },
  {
   "metadata": {},
   "cell_type": "markdown",
   "source": [
    "## Deployment\n",
    "\n",
    "johtopaatos / creating a recommendation of how to use the model in practice, or what to do next\n",
    "- How will the model be used in practice?\n",
    "- How will the results be communicated?"
   ],
   "id": "78f5929792c501d8"
  },
  {
   "metadata": {
    "ExecuteTime": {
     "end_time": "2025-09-22T10:05:27.509431Z",
     "start_time": "2025-09-22T10:05:27.507739Z"
    }
   },
   "cell_type": "code",
   "source": "# hello world",
   "id": "13be5d0c7da83b07",
   "outputs": [],
   "execution_count": 21
  },
  {
   "metadata": {},
   "cell_type": "markdown",
   "source": [
    "### Reflection\n",
    "\n",
    "#### Ai Usage\n",
    "- for research\n",
    "\n",
    "#### Team contribution\n",
    "- who did what\n",
    "\n",
    "#### Sources\n",
    "- links & descriptions"
   ],
   "id": "54766e56a25030e0"
  }
 ],
 "metadata": {
  "kernelspec": {
   "display_name": "Python 3",
   "language": "python",
   "name": "python3"
  },
  "language_info": {
   "codemirror_mode": {
    "name": "ipython",
    "version": 2
   },
   "file_extension": ".py",
   "mimetype": "text/x-python",
   "name": "python",
   "nbconvert_exporter": "python",
   "pygments_lexer": "ipython2",
   "version": "2.7.6"
  }
 },
 "nbformat": 4,
 "nbformat_minor": 5
}
